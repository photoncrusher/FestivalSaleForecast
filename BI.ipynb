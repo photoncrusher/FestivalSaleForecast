{
  "nbformat": 4,
  "nbformat_minor": 0,
  "metadata": {
    "colab": {
      "name": "BI.ipynb",
      "provenance": [],
      "collapsed_sections": [
        "EHWcR_7OAgOO",
        "wi2-t2b2AgOQ",
        "uav4jyNIAgOU",
        "1wY-igGIAgOb"
      ],
      "toc_visible": true
    },
    "kernelspec": {
      "display_name": "Python 3",
      "language": "python",
      "name": "python3"
    },
    "language_info": {
      "codemirror_mode": {
        "name": "ipython",
        "version": 3
      },
      "file_extension": ".py",
      "mimetype": "text/x-python",
      "name": "python",
      "nbconvert_exporter": "python",
      "pygments_lexer": "ipython3",
      "version": "3.8.5"
    },
    "accelerator": "GPU"
  },
  "cells": [
    {
      "cell_type": "markdown",
      "metadata": {
        "id": "qF875J8tAgOL"
      },
      "source": [
        "# Table of content\n",
        "## 1. Load data\n",
        "## 2. Visualize and explore data\n",
        "## 3. Preprocess data\n",
        "## 4. Feature selection, extraction and engineering\n",
        "## 5. Proposed model, trainning, parameters tunning and evaluation"
      ]
    },
    {
      "cell_type": "markdown",
      "metadata": {
        "id": "EHWcR_7OAgOO"
      },
      "source": [
        "## 1. Load data"
      ]
    },
    {
      "cell_type": "markdown",
      "metadata": {
        "id": "T7ALOx3YAgOP"
      },
      "source": [
        "### Import các thư viện cần thiết"
      ]
    },
    {
      "cell_type": "code",
      "metadata": {
        "id": "dE-cQykCYtWE"
      },
      "source": [
        "import numpy as np\n",
        "import pandas as pd\n",
        "import matplotlib.pyplot as plt\n",
        "import seaborn as sns\n",
        "import scipy.stats as stats\n",
        "from sklearn.model_selection import train_test_split\n",
        "from datetime import datetime\n",
        "from sklearn.ensemble import RandomForestRegressor"
      ],
      "execution_count": null,
      "outputs": []
    },
    {
      "cell_type": "markdown",
      "metadata": {
        "id": "wi2-t2b2AgOQ"
      },
      "source": [
        "### Đọc dữ liệu từ các file csv"
      ]
    },
    {
      "cell_type": "code",
      "metadata": {
        "colab": {
          "base_uri": "https://localhost:8080/"
        },
        "id": "c5ZT5mcLIYHD",
        "outputId": "8c10cb90-b42d-441d-c229-4cea3b499fa2"
      },
      "source": [
        "from google.colab import drive\n",
        "drive.mount('/content/drive')"
      ],
      "execution_count": null,
      "outputs": [
        {
          "output_type": "stream",
          "text": [
            "Mounted at /content/drive\n"
          ],
          "name": "stdout"
        }
      ]
    },
    {
      "cell_type": "code",
      "metadata": {
        "id": "Ea90XM_nZGJs"
      },
      "source": [
        "\n",
        "train=pd.read_csv('/content/train.csv')\n",
        "features=pd.read_csv('/content/features.csv')\n",
        "stores = pd.read_csv('/content/stores.csv')\n",
        "test = pd.read_csv('/content/test.csv')"
      ],
      "execution_count": null,
      "outputs": []
    },
    {
      "cell_type": "code",
      "metadata": {
        "colab": {
          "base_uri": "https://localhost:8080/",
          "height": 195
        },
        "id": "hy-Y2cMgZfqh",
        "outputId": "be27d439-b895-4de7-f1ad-c0fcf49839bc"
      },
      "source": [
        "train.head()"
      ],
      "execution_count": null,
      "outputs": [
        {
          "output_type": "execute_result",
          "data": {
            "text/html": [
              "<div>\n",
              "<style scoped>\n",
              "    .dataframe tbody tr th:only-of-type {\n",
              "        vertical-align: middle;\n",
              "    }\n",
              "\n",
              "    .dataframe tbody tr th {\n",
              "        vertical-align: top;\n",
              "    }\n",
              "\n",
              "    .dataframe thead th {\n",
              "        text-align: right;\n",
              "    }\n",
              "</style>\n",
              "<table border=\"1\" class=\"dataframe\">\n",
              "  <thead>\n",
              "    <tr style=\"text-align: right;\">\n",
              "      <th></th>\n",
              "      <th>Store</th>\n",
              "      <th>Dept</th>\n",
              "      <th>Date</th>\n",
              "      <th>Weekly_Sales</th>\n",
              "      <th>IsHoliday</th>\n",
              "    </tr>\n",
              "  </thead>\n",
              "  <tbody>\n",
              "    <tr>\n",
              "      <th>0</th>\n",
              "      <td>1</td>\n",
              "      <td>1</td>\n",
              "      <td>2010-02-05</td>\n",
              "      <td>24924.50</td>\n",
              "      <td>False</td>\n",
              "    </tr>\n",
              "    <tr>\n",
              "      <th>1</th>\n",
              "      <td>1</td>\n",
              "      <td>1</td>\n",
              "      <td>2010-02-12</td>\n",
              "      <td>46039.49</td>\n",
              "      <td>True</td>\n",
              "    </tr>\n",
              "    <tr>\n",
              "      <th>2</th>\n",
              "      <td>1</td>\n",
              "      <td>1</td>\n",
              "      <td>2010-02-19</td>\n",
              "      <td>41595.55</td>\n",
              "      <td>False</td>\n",
              "    </tr>\n",
              "    <tr>\n",
              "      <th>3</th>\n",
              "      <td>1</td>\n",
              "      <td>1</td>\n",
              "      <td>2010-02-26</td>\n",
              "      <td>19403.54</td>\n",
              "      <td>False</td>\n",
              "    </tr>\n",
              "    <tr>\n",
              "      <th>4</th>\n",
              "      <td>1</td>\n",
              "      <td>1</td>\n",
              "      <td>2010-03-05</td>\n",
              "      <td>21827.90</td>\n",
              "      <td>False</td>\n",
              "    </tr>\n",
              "  </tbody>\n",
              "</table>\n",
              "</div>"
            ],
            "text/plain": [
              "   Store  Dept        Date  Weekly_Sales  IsHoliday\n",
              "0      1     1  2010-02-05      24924.50      False\n",
              "1      1     1  2010-02-12      46039.49       True\n",
              "2      1     1  2010-02-19      41595.55      False\n",
              "3      1     1  2010-02-26      19403.54      False\n",
              "4      1     1  2010-03-05      21827.90      False"
            ]
          },
          "metadata": {
            "tags": []
          },
          "execution_count": 4
        }
      ]
    },
    {
      "cell_type": "code",
      "metadata": {
        "colab": {
          "base_uri": "https://localhost:8080/",
          "height": 195
        },
        "id": "4TN6bSScAgOT",
        "outputId": "32aa8154-48d6-4dc5-e8f3-bfbf00efa682"
      },
      "source": [
        "test.head()"
      ],
      "execution_count": null,
      "outputs": [
        {
          "output_type": "execute_result",
          "data": {
            "text/html": [
              "<div>\n",
              "<style scoped>\n",
              "    .dataframe tbody tr th:only-of-type {\n",
              "        vertical-align: middle;\n",
              "    }\n",
              "\n",
              "    .dataframe tbody tr th {\n",
              "        vertical-align: top;\n",
              "    }\n",
              "\n",
              "    .dataframe thead th {\n",
              "        text-align: right;\n",
              "    }\n",
              "</style>\n",
              "<table border=\"1\" class=\"dataframe\">\n",
              "  <thead>\n",
              "    <tr style=\"text-align: right;\">\n",
              "      <th></th>\n",
              "      <th>Store</th>\n",
              "      <th>Dept</th>\n",
              "      <th>Date</th>\n",
              "      <th>IsHoliday</th>\n",
              "    </tr>\n",
              "  </thead>\n",
              "  <tbody>\n",
              "    <tr>\n",
              "      <th>0</th>\n",
              "      <td>1</td>\n",
              "      <td>1</td>\n",
              "      <td>2012-11-02</td>\n",
              "      <td>False</td>\n",
              "    </tr>\n",
              "    <tr>\n",
              "      <th>1</th>\n",
              "      <td>1</td>\n",
              "      <td>1</td>\n",
              "      <td>2012-11-09</td>\n",
              "      <td>False</td>\n",
              "    </tr>\n",
              "    <tr>\n",
              "      <th>2</th>\n",
              "      <td>1</td>\n",
              "      <td>1</td>\n",
              "      <td>2012-11-16</td>\n",
              "      <td>False</td>\n",
              "    </tr>\n",
              "    <tr>\n",
              "      <th>3</th>\n",
              "      <td>1</td>\n",
              "      <td>1</td>\n",
              "      <td>2012-11-23</td>\n",
              "      <td>True</td>\n",
              "    </tr>\n",
              "    <tr>\n",
              "      <th>4</th>\n",
              "      <td>1</td>\n",
              "      <td>1</td>\n",
              "      <td>2012-11-30</td>\n",
              "      <td>False</td>\n",
              "    </tr>\n",
              "  </tbody>\n",
              "</table>\n",
              "</div>"
            ],
            "text/plain": [
              "   Store  Dept        Date  IsHoliday\n",
              "0      1     1  2012-11-02      False\n",
              "1      1     1  2012-11-09      False\n",
              "2      1     1  2012-11-16      False\n",
              "3      1     1  2012-11-23       True\n",
              "4      1     1  2012-11-30      False"
            ]
          },
          "metadata": {
            "tags": []
          },
          "execution_count": 5
        }
      ]
    },
    {
      "cell_type": "code",
      "metadata": {
        "colab": {
          "base_uri": "https://localhost:8080/",
          "height": 195
        },
        "id": "9jFWz9pUAgOT",
        "outputId": "329b1a45-eb57-45fb-b677-ab676a38f677"
      },
      "source": [
        "features.head(5)"
      ],
      "execution_count": null,
      "outputs": [
        {
          "output_type": "execute_result",
          "data": {
            "text/html": [
              "<div>\n",
              "<style scoped>\n",
              "    .dataframe tbody tr th:only-of-type {\n",
              "        vertical-align: middle;\n",
              "    }\n",
              "\n",
              "    .dataframe tbody tr th {\n",
              "        vertical-align: top;\n",
              "    }\n",
              "\n",
              "    .dataframe thead th {\n",
              "        text-align: right;\n",
              "    }\n",
              "</style>\n",
              "<table border=\"1\" class=\"dataframe\">\n",
              "  <thead>\n",
              "    <tr style=\"text-align: right;\">\n",
              "      <th></th>\n",
              "      <th>Store</th>\n",
              "      <th>Date</th>\n",
              "      <th>Temperature</th>\n",
              "      <th>Fuel_Price</th>\n",
              "      <th>MarkDown1</th>\n",
              "      <th>MarkDown2</th>\n",
              "      <th>MarkDown3</th>\n",
              "      <th>MarkDown4</th>\n",
              "      <th>MarkDown5</th>\n",
              "      <th>CPI</th>\n",
              "      <th>Unemployment</th>\n",
              "      <th>IsHoliday</th>\n",
              "    </tr>\n",
              "  </thead>\n",
              "  <tbody>\n",
              "    <tr>\n",
              "      <th>0</th>\n",
              "      <td>1</td>\n",
              "      <td>2010-02-05</td>\n",
              "      <td>42.31</td>\n",
              "      <td>2.572</td>\n",
              "      <td>NaN</td>\n",
              "      <td>NaN</td>\n",
              "      <td>NaN</td>\n",
              "      <td>NaN</td>\n",
              "      <td>NaN</td>\n",
              "      <td>211.096358</td>\n",
              "      <td>8.106</td>\n",
              "      <td>False</td>\n",
              "    </tr>\n",
              "    <tr>\n",
              "      <th>1</th>\n",
              "      <td>1</td>\n",
              "      <td>2010-02-12</td>\n",
              "      <td>38.51</td>\n",
              "      <td>2.548</td>\n",
              "      <td>NaN</td>\n",
              "      <td>NaN</td>\n",
              "      <td>NaN</td>\n",
              "      <td>NaN</td>\n",
              "      <td>NaN</td>\n",
              "      <td>211.242170</td>\n",
              "      <td>8.106</td>\n",
              "      <td>True</td>\n",
              "    </tr>\n",
              "    <tr>\n",
              "      <th>2</th>\n",
              "      <td>1</td>\n",
              "      <td>2010-02-19</td>\n",
              "      <td>39.93</td>\n",
              "      <td>2.514</td>\n",
              "      <td>NaN</td>\n",
              "      <td>NaN</td>\n",
              "      <td>NaN</td>\n",
              "      <td>NaN</td>\n",
              "      <td>NaN</td>\n",
              "      <td>211.289143</td>\n",
              "      <td>8.106</td>\n",
              "      <td>False</td>\n",
              "    </tr>\n",
              "    <tr>\n",
              "      <th>3</th>\n",
              "      <td>1</td>\n",
              "      <td>2010-02-26</td>\n",
              "      <td>46.63</td>\n",
              "      <td>2.561</td>\n",
              "      <td>NaN</td>\n",
              "      <td>NaN</td>\n",
              "      <td>NaN</td>\n",
              "      <td>NaN</td>\n",
              "      <td>NaN</td>\n",
              "      <td>211.319643</td>\n",
              "      <td>8.106</td>\n",
              "      <td>False</td>\n",
              "    </tr>\n",
              "    <tr>\n",
              "      <th>4</th>\n",
              "      <td>1</td>\n",
              "      <td>2010-03-05</td>\n",
              "      <td>46.50</td>\n",
              "      <td>2.625</td>\n",
              "      <td>NaN</td>\n",
              "      <td>NaN</td>\n",
              "      <td>NaN</td>\n",
              "      <td>NaN</td>\n",
              "      <td>NaN</td>\n",
              "      <td>211.350143</td>\n",
              "      <td>8.106</td>\n",
              "      <td>False</td>\n",
              "    </tr>\n",
              "  </tbody>\n",
              "</table>\n",
              "</div>"
            ],
            "text/plain": [
              "   Store        Date  Temperature  ...         CPI  Unemployment  IsHoliday\n",
              "0      1  2010-02-05        42.31  ...  211.096358         8.106      False\n",
              "1      1  2010-02-12        38.51  ...  211.242170         8.106       True\n",
              "2      1  2010-02-19        39.93  ...  211.289143         8.106      False\n",
              "3      1  2010-02-26        46.63  ...  211.319643         8.106      False\n",
              "4      1  2010-03-05        46.50  ...  211.350143         8.106      False\n",
              "\n",
              "[5 rows x 12 columns]"
            ]
          },
          "metadata": {
            "tags": []
          },
          "execution_count": 6
        }
      ]
    },
    {
      "cell_type": "code",
      "metadata": {
        "colab": {
          "base_uri": "https://localhost:8080/",
          "height": 195
        },
        "id": "wklugRzTAgOT",
        "outputId": "417fc724-6c07-44e3-9977-6dbf9c18d485"
      },
      "source": [
        "stores.head()"
      ],
      "execution_count": null,
      "outputs": [
        {
          "output_type": "execute_result",
          "data": {
            "text/html": [
              "<div>\n",
              "<style scoped>\n",
              "    .dataframe tbody tr th:only-of-type {\n",
              "        vertical-align: middle;\n",
              "    }\n",
              "\n",
              "    .dataframe tbody tr th {\n",
              "        vertical-align: top;\n",
              "    }\n",
              "\n",
              "    .dataframe thead th {\n",
              "        text-align: right;\n",
              "    }\n",
              "</style>\n",
              "<table border=\"1\" class=\"dataframe\">\n",
              "  <thead>\n",
              "    <tr style=\"text-align: right;\">\n",
              "      <th></th>\n",
              "      <th>Store</th>\n",
              "      <th>Type</th>\n",
              "      <th>Size</th>\n",
              "    </tr>\n",
              "  </thead>\n",
              "  <tbody>\n",
              "    <tr>\n",
              "      <th>0</th>\n",
              "      <td>1</td>\n",
              "      <td>A</td>\n",
              "      <td>151315</td>\n",
              "    </tr>\n",
              "    <tr>\n",
              "      <th>1</th>\n",
              "      <td>2</td>\n",
              "      <td>A</td>\n",
              "      <td>202307</td>\n",
              "    </tr>\n",
              "    <tr>\n",
              "      <th>2</th>\n",
              "      <td>3</td>\n",
              "      <td>B</td>\n",
              "      <td>37392</td>\n",
              "    </tr>\n",
              "    <tr>\n",
              "      <th>3</th>\n",
              "      <td>4</td>\n",
              "      <td>A</td>\n",
              "      <td>205863</td>\n",
              "    </tr>\n",
              "    <tr>\n",
              "      <th>4</th>\n",
              "      <td>5</td>\n",
              "      <td>B</td>\n",
              "      <td>34875</td>\n",
              "    </tr>\n",
              "  </tbody>\n",
              "</table>\n",
              "</div>"
            ],
            "text/plain": [
              "   Store Type    Size\n",
              "0      1    A  151315\n",
              "1      2    A  202307\n",
              "2      3    B   37392\n",
              "3      4    A  205863\n",
              "4      5    B   34875"
            ]
          },
          "metadata": {
            "tags": []
          },
          "execution_count": 7
        }
      ]
    },
    {
      "cell_type": "markdown",
      "metadata": {
        "id": "uav4jyNIAgOU"
      },
      "source": [
        "## 2. Visualize and explore data"
      ]
    },
    {
      "cell_type": "markdown",
      "metadata": {
        "id": "avpH_ubSAgOU"
      },
      "source": [
        "Ở phần này sẽ visualize sự ảnh hưởng của các thuộc tính dạng categorical tới Weekly_Sales. Còn các thuộc tính dạng numerical sẽ visualize ở phần Preprocess Data sau khi data đã được tiền xử lý"
      ]
    },
    {
      "cell_type": "markdown",
      "metadata": {
        "id": "4GaDmcfeXOD8"
      },
      "source": [
        "### Tỉ lệ các loại store"
      ]
    },
    {
      "cell_type": "code",
      "metadata": {
        "colab": {
          "base_uri": "https://localhost:8080/"
        },
        "id": "MeLpWuUFXTKR",
        "outputId": "5de147e9-a83e-4d8e-ba15-83466d04b674"
      },
      "source": [
        "\n",
        "sorted_type = stores.groupby('Type')\n",
        "plt.style.use('ggplot')\n",
        "labels=['A store','B store','C store']\n",
        "sizes=sorted_type.describe()['Size'].round(1)\n",
        "sizes=[(22/(17+6+22))*100,(17/(17+6+22))*100,(6/(17+6+22))*100] # convert to the proportion\n",
        "fig, axes = plt.subplots(1,1, figsize=(10,10))\n",
        "wprops={'edgecolor':'black',\n",
        "      'linewidth':2}\n",
        "tprops = {'fontsize':30}\n",
        "axes.pie(sizes,\n",
        "        labels=labels,\n",
        "        explode=(0.0,0,0),\n",
        "        autopct='%1.1f%%',\n",
        "        pctdistance=0.6,\n",
        "        labeldistance=1.2,\n",
        "        wedgeprops=wprops,\n",
        "        textprops=tprops,\n",
        "        radius=0.8,\n",
        "        center=(0.5,0.5))\n",
        "plt.show()"
      ],
      "execution_count": null,
      "outputs": [
        {
          "output_type": "display_data",
          "data": {
            "image/png": "[encoded data removed]",
            "text/plain": [
              "<Figure size 720x720 with 1 Axes>"
            ]
          },
          "metadata": {
            "tags": []
          }
        }
      ]
    },
    {
      "cell_type": "code",
      "metadata": {
        "colab": {
          "base_uri": "https://localhost:8080/"
        },
        "id": "e0tGUi7XZFTh",
        "outputId": "bccfed07-b53a-4b12-d710-62f68753ea2e"
      },
      "source": [
        "train_stores = train.merge(stores, on = ['Store'], how = 'inner')\n",
        "train_stores.head()"
      ],
      "execution_count": null,
      "outputs": [
        {
          "output_type": "execute_result",
          "data": {
            "text/html": [
              "<div>\n",
              "<style scoped>\n",
              "    .dataframe tbody tr th:only-of-type {\n",
              "        vertical-align: middle;\n",
              "    }\n",
              "\n",
              "    .dataframe tbody tr th {\n",
              "        vertical-align: top;\n",
              "    }\n",
              "\n",
              "    .dataframe thead th {\n",
              "        text-align: right;\n",
              "    }\n",
              "</style>\n",
              "<table border=\"1\" class=\"dataframe\">\n",
              "  <thead>\n",
              "    <tr style=\"text-align: right;\">\n",
              "      <th></th>\n",
              "      <th>Store</th>\n",
              "      <th>Dept</th>\n",
              "      <th>Date</th>\n",
              "      <th>Weekly_Sales</th>\n",
              "      <th>IsHoliday</th>\n",
              "      <th>Type</th>\n",
              "      <th>Size</th>\n",
              "    </tr>\n",
              "  </thead>\n",
              "  <tbody>\n",
              "    <tr>\n",
              "      <th>0</th>\n",
              "      <td>1</td>\n",
              "      <td>1</td>\n",
              "      <td>2010-02-05</td>\n",
              "      <td>24924.50</td>\n",
              "      <td>False</td>\n",
              "      <td>A</td>\n",
              "      <td>151315</td>\n",
              "    </tr>\n",
              "    <tr>\n",
              "      <th>1</th>\n",
              "      <td>1</td>\n",
              "      <td>1</td>\n",
              "      <td>2010-02-12</td>\n",
              "      <td>46039.49</td>\n",
              "      <td>True</td>\n",
              "      <td>A</td>\n",
              "      <td>151315</td>\n",
              "    </tr>\n",
              "    <tr>\n",
              "      <th>2</th>\n",
              "      <td>1</td>\n",
              "      <td>1</td>\n",
              "      <td>2010-02-19</td>\n",
              "      <td>41595.55</td>\n",
              "      <td>False</td>\n",
              "      <td>A</td>\n",
              "      <td>151315</td>\n",
              "    </tr>\n",
              "    <tr>\n",
              "      <th>3</th>\n",
              "      <td>1</td>\n",
              "      <td>1</td>\n",
              "      <td>2010-02-26</td>\n",
              "      <td>19403.54</td>\n",
              "      <td>False</td>\n",
              "      <td>A</td>\n",
              "      <td>151315</td>\n",
              "    </tr>\n",
              "    <tr>\n",
              "      <th>4</th>\n",
              "      <td>1</td>\n",
              "      <td>1</td>\n",
              "      <td>2010-03-05</td>\n",
              "      <td>21827.90</td>\n",
              "      <td>False</td>\n",
              "      <td>A</td>\n",
              "      <td>151315</td>\n",
              "    </tr>\n",
              "  </tbody>\n",
              "</table>\n",
              "</div>"
            ],
            "text/plain": [
              "   Store  Dept        Date  Weekly_Sales  IsHoliday Type    Size\n",
              "0      1     1  2010-02-05      24924.50      False    A  151315\n",
              "1      1     1  2010-02-12      46039.49       True    A  151315\n",
              "2      1     1  2010-02-19      41595.55      False    A  151315\n",
              "3      1     1  2010-02-26      19403.54      False    A  151315\n",
              "4      1     1  2010-03-05      21827.90      False    A  151315"
            ]
          },
          "metadata": {
            "tags": []
          },
          "execution_count": 9
        }
      ]
    },
    {
      "cell_type": "markdown",
      "metadata": {
        "id": "4-Gu3ueMAgOW"
      },
      "source": [
        "### So sánh lượng sale trung bình giữa holiday và non-holiday"
      ]
    },
    {
      "cell_type": "code",
      "metadata": {
        "colab": {
          "base_uri": "https://localhost:8080/"
        },
        "id": "8rDKkhBMYY-9",
        "outputId": "30db30e3-c2b2-499e-96d5-7a3d6ca0ddf2"
      },
      "source": [
        "\n",
        "holiday = train_stores['Weekly_Sales'].loc[train_stores['IsHoliday']== True] # Weekly Sales in Holidays\n",
        "non_holiday = train_stores['Weekly_Sales'].loc[train_stores['IsHoliday']== False] #Weekly Sales in Non-holidays.\n",
        "sns.barplot(x='IsHoliday', y='Weekly_Sales', data=train_stores)\n",
        "sns.set_style('darkgrid')\n",
        "sns.set_palette('Set2')"
      ],
      "execution_count": null,
      "outputs": [
        {
          "output_type": "display_data",
          "data": {
            "image/png": "[encoded data removed]",
            "text/plain": [
              "<Figure size 432x288 with 1 Axes>"
            ]
          },
          "metadata": {
            "tags": []
          }
        }
      ]
    },
    {
      "cell_type": "code",
      "metadata": {
        "id": "zlYL4IPGcsKe"
      },
      "source": [
        ""
      ],
      "execution_count": null,
      "outputs": []
    },
    {
      "cell_type": "markdown",
      "metadata": {
        "id": "zhvxvOEqgYB_",
        "outputId": "00f15458-bef3-4ad0-fae3-0e9c3a92b911"
      },
      "source": [
        "### So sánh lượng sale trung bình giữa các loại store"
      ]
    },
    {
      "cell_type": "code",
      "metadata": {
        "colab": {
          "base_uri": "https://localhost:8080/"
        },
        "id": "dEHl6InxdnqT",
        "outputId": "505372c9-e99a-477b-d9ce-9ce4d513874c"
      },
      "source": [
        "\n",
        "sns.barplot(x = 'Type', y = 'Weekly_Sales', data = train_stores, ci = None)\n",
        "sns.set_style('darkgrid')\n",
        "sns.set_palette('Set2')\n"
      ],
      "execution_count": null,
      "outputs": [
        {
          "output_type": "display_data",
          "data": {
            "image/png": "[encoded data removed]",
            "text/plain": [
              "<Figure size 432x288 with 1 Axes>"
            ]
          },
          "metadata": {
            "tags": []
          }
        }
      ]
    },
    {
      "cell_type": "markdown",
      "metadata": {
        "id": "qBxCLPggAgOY"
      },
      "source": [
        "### Sales theo loại store và Holiday"
      ]
    },
    {
      "cell_type": "code",
      "metadata": {
        "colab": {
          "base_uri": "https://localhost:8080/"
        },
        "id": "wj1ydanRj3mT",
        "outputId": "a74b4cca-a359-4dab-d4b4-e695eb8efa15"
      },
      "source": [
        "# sale theo store va Is_Holiday\n",
        "sns.barplot(x = 'Type', y = 'Weekly_Sales', hue = 'IsHoliday', data = train_stores, ci = None)\n",
        "sns.set_style('darkgrid')\n",
        "sns.set_palette('Set2')"
      ],
      "execution_count": null,
      "outputs": [
        {
          "output_type": "display_data",
          "data": {
            "image/png": "[encoded data removed]",
            "text/plain": [
              "<Figure size 432x288 with 1 Axes>"
            ]
          },
          "metadata": {
            "tags": []
          }
        }
      ]
    },
    {
      "cell_type": "markdown",
      "metadata": {
        "id": "vkmG9_twAgOZ"
      },
      "source": [
        "### Sale theo department"
      ]
    },
    {
      "cell_type": "code",
      "metadata": {
        "colab": {
          "base_uri": "https://localhost:8080/"
        },
        "id": "A7sGhJ5ylP-3",
        "outputId": "2fc35843-b021-4bf8-c7b6-5d9fae314a8e"
      },
      "source": [
        "plt.figure(figsize = (20,20))\n",
        "sns.barplot(x = 'Dept', y = 'Weekly_Sales', data = train_stores, ci = None)\n",
        "sns.set_style('darkgrid')\n",
        "sns.set_palette('Set2')"
      ],
      "execution_count": null,
      "outputs": [
        {
          "output_type": "display_data",
          "data": {
            "image/png": "[encoded data removed]",
            "text/plain": [
              "<Figure size 1440x1440 with 1 Axes>"
            ]
          },
          "metadata": {
            "tags": []
          }
        }
      ]
    },
    {
      "cell_type": "markdown",
      "metadata": {
        "id": "DMgepsJpAgOa"
      },
      "source": [
        "### Sale theo store"
      ]
    },
    {
      "cell_type": "code",
      "metadata": {
        "colab": {
          "base_uri": "https://localhost:8080/"
        },
        "id": "lL759_7RmM56",
        "outputId": "5a93c5ad-b3e1-41ae-e8e9-292ce985eb49"
      },
      "source": [
        "# sale theo store\n",
        "plt.figure(figsize = (20,20))\n",
        "sns.barplot(x = 'Store', y = 'Weekly_Sales', data = train_stores, ci = None)\n",
        "sns.set_style('darkgrid')\n",
        "sns.set_palette('Set2')"
      ],
      "execution_count": null,
      "outputs": [
        {
          "output_type": "display_data",
          "data": {
            "image/png": "[encoded data removed]",
            "text/plain": [
              "<Figure size 1440x1440 with 1 Axes>"
            ]
          },
          "metadata": {
            "tags": []
          }
        }
      ]
    },
    {
      "cell_type": "code",
      "metadata": {
        "id": "31TySLqem1CK"
      },
      "source": [
        ""
      ],
      "execution_count": null,
      "outputs": []
    },
    {
      "cell_type": "markdown",
      "metadata": {
        "id": "nPDVcHd1AgOb"
      },
      "source": [
        "## 3. Preprocess data"
      ]
    },
    {
      "cell_type": "markdown",
      "metadata": {
        "id": "1wY-igGIAgOb"
      },
      "source": [
        "### Kết nối các bảng"
      ]
    },
    {
      "cell_type": "code",
      "metadata": {
        "colab": {
          "base_uri": "https://localhost:8080/"
        },
        "id": "l4K3Mx4xZmIn",
        "outputId": "1f7d45be-7ec9-4cdb-d18e-3d7730b38fa6"
      },
      "source": [
        "data = train.merge(features, on=['Store', 'Date'], how='inner').merge(stores, on=['Store'], how='inner')\n",
        "data.head()"
      ],
      "execution_count": null,
      "outputs": [
        {
          "output_type": "execute_result",
          "data": {
            "text/html": [
              "<div>\n",
              "<style scoped>\n",
              "    .dataframe tbody tr th:only-of-type {\n",
              "        vertical-align: middle;\n",
              "    }\n",
              "\n",
              "    .dataframe tbody tr th {\n",
              "        vertical-align: top;\n",
              "    }\n",
              "\n",
              "    .dataframe thead th {\n",
              "        text-align: right;\n",
              "    }\n",
              "</style>\n",
              "<table border=\"1\" class=\"dataframe\">\n",
              "  <thead>\n",
              "    <tr style=\"text-align: right;\">\n",
              "      <th></th>\n",
              "      <th>Store</th>\n",
              "      <th>Dept</th>\n",
              "      <th>Date</th>\n",
              "      <th>Weekly_Sales</th>\n",
              "      <th>IsHoliday_x</th>\n",
              "      <th>Temperature</th>\n",
              "      <th>Fuel_Price</th>\n",
              "      <th>MarkDown1</th>\n",
              "      <th>MarkDown2</th>\n",
              "      <th>MarkDown3</th>\n",
              "      <th>MarkDown4</th>\n",
              "      <th>MarkDown5</th>\n",
              "      <th>CPI</th>\n",
              "      <th>Unemployment</th>\n",
              "      <th>IsHoliday_y</th>\n",
              "      <th>Type</th>\n",
              "      <th>Size</th>\n",
              "    </tr>\n",
              "  </thead>\n",
              "  <tbody>\n",
              "    <tr>\n",
              "      <th>0</th>\n",
              "      <td>1</td>\n",
              "      <td>1</td>\n",
              "      <td>2010-02-05</td>\n",
              "      <td>24924.50</td>\n",
              "      <td>False</td>\n",
              "      <td>42.31</td>\n",
              "      <td>2.572</td>\n",
              "      <td>NaN</td>\n",
              "      <td>NaN</td>\n",
              "      <td>NaN</td>\n",
              "      <td>NaN</td>\n",
              "      <td>NaN</td>\n",
              "      <td>211.096358</td>\n",
              "      <td>8.106</td>\n",
              "      <td>False</td>\n",
              "      <td>A</td>\n",
              "      <td>151315</td>\n",
              "    </tr>\n",
              "    <tr>\n",
              "      <th>1</th>\n",
              "      <td>1</td>\n",
              "      <td>2</td>\n",
              "      <td>2010-02-05</td>\n",
              "      <td>50605.27</td>\n",
              "      <td>False</td>\n",
              "      <td>42.31</td>\n",
              "      <td>2.572</td>\n",
              "      <td>NaN</td>\n",
              "      <td>NaN</td>\n",
              "      <td>NaN</td>\n",
              "      <td>NaN</td>\n",
              "      <td>NaN</td>\n",
              "      <td>211.096358</td>\n",
              "      <td>8.106</td>\n",
              "      <td>False</td>\n",
              "      <td>A</td>\n",
              "      <td>151315</td>\n",
              "    </tr>\n",
              "    <tr>\n",
              "      <th>2</th>\n",
              "      <td>1</td>\n",
              "      <td>3</td>\n",
              "      <td>2010-02-05</td>\n",
              "      <td>13740.12</td>\n",
              "      <td>False</td>\n",
              "      <td>42.31</td>\n",
              "      <td>2.572</td>\n",
              "      <td>NaN</td>\n",
              "      <td>NaN</td>\n",
              "      <td>NaN</td>\n",
              "      <td>NaN</td>\n",
              "      <td>NaN</td>\n",
              "      <td>211.096358</td>\n",
              "      <td>8.106</td>\n",
              "      <td>False</td>\n",
              "      <td>A</td>\n",
              "      <td>151315</td>\n",
              "    </tr>\n",
              "    <tr>\n",
              "      <th>3</th>\n",
              "      <td>1</td>\n",
              "      <td>4</td>\n",
              "      <td>2010-02-05</td>\n",
              "      <td>39954.04</td>\n",
              "      <td>False</td>\n",
              "      <td>42.31</td>\n",
              "      <td>2.572</td>\n",
              "      <td>NaN</td>\n",
              "      <td>NaN</td>\n",
              "      <td>NaN</td>\n",
              "      <td>NaN</td>\n",
              "      <td>NaN</td>\n",
              "      <td>211.096358</td>\n",
              "      <td>8.106</td>\n",
              "      <td>False</td>\n",
              "      <td>A</td>\n",
              "      <td>151315</td>\n",
              "    </tr>\n",
              "    <tr>\n",
              "      <th>4</th>\n",
              "      <td>1</td>\n",
              "      <td>5</td>\n",
              "      <td>2010-02-05</td>\n",
              "      <td>32229.38</td>\n",
              "      <td>False</td>\n",
              "      <td>42.31</td>\n",
              "      <td>2.572</td>\n",
              "      <td>NaN</td>\n",
              "      <td>NaN</td>\n",
              "      <td>NaN</td>\n",
              "      <td>NaN</td>\n",
              "      <td>NaN</td>\n",
              "      <td>211.096358</td>\n",
              "      <td>8.106</td>\n",
              "      <td>False</td>\n",
              "      <td>A</td>\n",
              "      <td>151315</td>\n",
              "    </tr>\n",
              "  </tbody>\n",
              "</table>\n",
              "</div>"
            ],
            "text/plain": [
              "   Store  Dept        Date  ...  IsHoliday_y  Type    Size\n",
              "0      1     1  2010-02-05  ...        False     A  151315\n",
              "1      1     2  2010-02-05  ...        False     A  151315\n",
              "2      1     3  2010-02-05  ...        False     A  151315\n",
              "3      1     4  2010-02-05  ...        False     A  151315\n",
              "4      1     5  2010-02-05  ...        False     A  151315\n",
              "\n",
              "[5 rows x 17 columns]"
            ]
          },
          "metadata": {
            "tags": []
          },
          "execution_count": 8
        }
      ]
    },
    {
      "cell_type": "markdown",
      "metadata": {
        "id": "K20x4FmsZti-",
        "outputId": "0bbf9bd0-5553-413c-b5b7-c1dd5fec3c6f"
      },
      "source": [
        "### Drop các giá trị null và âm"
      ]
    },
    {
      "cell_type": "code",
      "metadata": {
        "id": "8k-OHh1yaHqH"
      },
      "source": [
        "data = data.fillna(0)\n",
        "data = data[data['Weekly_Sales'] >= 0]"
      ],
      "execution_count": null,
      "outputs": []
    },
    {
      "cell_type": "markdown",
      "metadata": {
        "id": "0sfZIzVbaM3v"
      },
      "source": [
        "### Drop cột thừa\n"
      ]
    },
    {
      "cell_type": "code",
      "metadata": {
        "colab": {
          "base_uri": "https://localhost:8080/"
        },
        "id": "pRTlt1Z0AgOd",
        "outputId": "54e38229-1a60-4e9f-d001-c55d6f3d2ab2"
      },
      "source": [
        "data.drop('IsHoliday_y', axis = 1, inplace = True)\n",
        "data['IsHoliday'] = data['IsHoliday_x']\n",
        "data.drop('IsHoliday_x', axis = 1, inplace = True)\n",
        "data"
      ],
      "execution_count": null,
      "outputs": [
        {
          "output_type": "execute_result",
          "data": {
            "text/html": [
              "<div>\n",
              "<style scoped>\n",
              "    .dataframe tbody tr th:only-of-type {\n",
              "        vertical-align: middle;\n",
              "    }\n",
              "\n",
              "    .dataframe tbody tr th {\n",
              "        vertical-align: top;\n",
              "    }\n",
              "\n",
              "    .dataframe thead th {\n",
              "        text-align: right;\n",
              "    }\n",
              "</style>\n",
              "<table border=\"1\" class=\"dataframe\">\n",
              "  <thead>\n",
              "    <tr style=\"text-align: right;\">\n",
              "      <th></th>\n",
              "      <th>Store</th>\n",
              "      <th>Dept</th>\n",
              "      <th>Date</th>\n",
              "      <th>Weekly_Sales</th>\n",
              "      <th>Temperature</th>\n",
              "      <th>Fuel_Price</th>\n",
              "      <th>MarkDown1</th>\n",
              "      <th>MarkDown2</th>\n",
              "      <th>MarkDown3</th>\n",
              "      <th>MarkDown4</th>\n",
              "      <th>MarkDown5</th>\n",
              "      <th>CPI</th>\n",
              "      <th>Unemployment</th>\n",
              "      <th>Type</th>\n",
              "      <th>Size</th>\n",
              "      <th>IsHoliday</th>\n",
              "    </tr>\n",
              "  </thead>\n",
              "  <tbody>\n",
              "    <tr>\n",
              "      <th>0</th>\n",
              "      <td>1</td>\n",
              "      <td>1</td>\n",
              "      <td>2010-02-05</td>\n",
              "      <td>24924.50</td>\n",
              "      <td>42.31</td>\n",
              "      <td>2.572</td>\n",
              "      <td>0.00</td>\n",
              "      <td>0.00</td>\n",
              "      <td>0.0</td>\n",
              "      <td>0.00</td>\n",
              "      <td>0.00</td>\n",
              "      <td>211.096358</td>\n",
              "      <td>8.106</td>\n",
              "      <td>A</td>\n",
              "      <td>151315</td>\n",
              "      <td>False</td>\n",
              "    </tr>\n",
              "    <tr>\n",
              "      <th>1</th>\n",
              "      <td>1</td>\n",
              "      <td>2</td>\n",
              "      <td>2010-02-05</td>\n",
              "      <td>50605.27</td>\n",
              "      <td>42.31</td>\n",
              "      <td>2.572</td>\n",
              "      <td>0.00</td>\n",
              "      <td>0.00</td>\n",
              "      <td>0.0</td>\n",
              "      <td>0.00</td>\n",
              "      <td>0.00</td>\n",
              "      <td>211.096358</td>\n",
              "      <td>8.106</td>\n",
              "      <td>A</td>\n",
              "      <td>151315</td>\n",
              "      <td>False</td>\n",
              "    </tr>\n",
              "    <tr>\n",
              "      <th>2</th>\n",
              "      <td>1</td>\n",
              "      <td>3</td>\n",
              "      <td>2010-02-05</td>\n",
              "      <td>13740.12</td>\n",
              "      <td>42.31</td>\n",
              "      <td>2.572</td>\n",
              "      <td>0.00</td>\n",
              "      <td>0.00</td>\n",
              "      <td>0.0</td>\n",
              "      <td>0.00</td>\n",
              "      <td>0.00</td>\n",
              "      <td>211.096358</td>\n",
              "      <td>8.106</td>\n",
              "      <td>A</td>\n",
              "      <td>151315</td>\n",
              "      <td>False</td>\n",
              "    </tr>\n",
              "    <tr>\n",
              "      <th>3</th>\n",
              "      <td>1</td>\n",
              "      <td>4</td>\n",
              "      <td>2010-02-05</td>\n",
              "      <td>39954.04</td>\n",
              "      <td>42.31</td>\n",
              "      <td>2.572</td>\n",
              "      <td>0.00</td>\n",
              "      <td>0.00</td>\n",
              "      <td>0.0</td>\n",
              "      <td>0.00</td>\n",
              "      <td>0.00</td>\n",
              "      <td>211.096358</td>\n",
              "      <td>8.106</td>\n",
              "      <td>A</td>\n",
              "      <td>151315</td>\n",
              "      <td>False</td>\n",
              "    </tr>\n",
              "    <tr>\n",
              "      <th>4</th>\n",
              "      <td>1</td>\n",
              "      <td>5</td>\n",
              "      <td>2010-02-05</td>\n",
              "      <td>32229.38</td>\n",
              "      <td>42.31</td>\n",
              "      <td>2.572</td>\n",
              "      <td>0.00</td>\n",
              "      <td>0.00</td>\n",
              "      <td>0.0</td>\n",
              "      <td>0.00</td>\n",
              "      <td>0.00</td>\n",
              "      <td>211.096358</td>\n",
              "      <td>8.106</td>\n",
              "      <td>A</td>\n",
              "      <td>151315</td>\n",
              "      <td>False</td>\n",
              "    </tr>\n",
              "    <tr>\n",
              "      <th>...</th>\n",
              "      <td>...</td>\n",
              "      <td>...</td>\n",
              "      <td>...</td>\n",
              "      <td>...</td>\n",
              "      <td>...</td>\n",
              "      <td>...</td>\n",
              "      <td>...</td>\n",
              "      <td>...</td>\n",
              "      <td>...</td>\n",
              "      <td>...</td>\n",
              "      <td>...</td>\n",
              "      <td>...</td>\n",
              "      <td>...</td>\n",
              "      <td>...</td>\n",
              "      <td>...</td>\n",
              "      <td>...</td>\n",
              "    </tr>\n",
              "    <tr>\n",
              "      <th>421565</th>\n",
              "      <td>45</td>\n",
              "      <td>93</td>\n",
              "      <td>2012-10-26</td>\n",
              "      <td>2487.80</td>\n",
              "      <td>58.85</td>\n",
              "      <td>3.882</td>\n",
              "      <td>4018.91</td>\n",
              "      <td>58.08</td>\n",
              "      <td>100.0</td>\n",
              "      <td>211.94</td>\n",
              "      <td>858.33</td>\n",
              "      <td>192.308899</td>\n",
              "      <td>8.667</td>\n",
              "      <td>B</td>\n",
              "      <td>118221</td>\n",
              "      <td>False</td>\n",
              "    </tr>\n",
              "    <tr>\n",
              "      <th>421566</th>\n",
              "      <td>45</td>\n",
              "      <td>94</td>\n",
              "      <td>2012-10-26</td>\n",
              "      <td>5203.31</td>\n",
              "      <td>58.85</td>\n",
              "      <td>3.882</td>\n",
              "      <td>4018.91</td>\n",
              "      <td>58.08</td>\n",
              "      <td>100.0</td>\n",
              "      <td>211.94</td>\n",
              "      <td>858.33</td>\n",
              "      <td>192.308899</td>\n",
              "      <td>8.667</td>\n",
              "      <td>B</td>\n",
              "      <td>118221</td>\n",
              "      <td>False</td>\n",
              "    </tr>\n",
              "    <tr>\n",
              "      <th>421567</th>\n",
              "      <td>45</td>\n",
              "      <td>95</td>\n",
              "      <td>2012-10-26</td>\n",
              "      <td>56017.47</td>\n",
              "      <td>58.85</td>\n",
              "      <td>3.882</td>\n",
              "      <td>4018.91</td>\n",
              "      <td>58.08</td>\n",
              "      <td>100.0</td>\n",
              "      <td>211.94</td>\n",
              "      <td>858.33</td>\n",
              "      <td>192.308899</td>\n",
              "      <td>8.667</td>\n",
              "      <td>B</td>\n",
              "      <td>118221</td>\n",
              "      <td>False</td>\n",
              "    </tr>\n",
              "    <tr>\n",
              "      <th>421568</th>\n",
              "      <td>45</td>\n",
              "      <td>97</td>\n",
              "      <td>2012-10-26</td>\n",
              "      <td>6817.48</td>\n",
              "      <td>58.85</td>\n",
              "      <td>3.882</td>\n",
              "      <td>4018.91</td>\n",
              "      <td>58.08</td>\n",
              "      <td>100.0</td>\n",
              "      <td>211.94</td>\n",
              "      <td>858.33</td>\n",
              "      <td>192.308899</td>\n",
              "      <td>8.667</td>\n",
              "      <td>B</td>\n",
              "      <td>118221</td>\n",
              "      <td>False</td>\n",
              "    </tr>\n",
              "    <tr>\n",
              "      <th>421569</th>\n",
              "      <td>45</td>\n",
              "      <td>98</td>\n",
              "      <td>2012-10-26</td>\n",
              "      <td>1076.80</td>\n",
              "      <td>58.85</td>\n",
              "      <td>3.882</td>\n",
              "      <td>4018.91</td>\n",
              "      <td>58.08</td>\n",
              "      <td>100.0</td>\n",
              "      <td>211.94</td>\n",
              "      <td>858.33</td>\n",
              "      <td>192.308899</td>\n",
              "      <td>8.667</td>\n",
              "      <td>B</td>\n",
              "      <td>118221</td>\n",
              "      <td>False</td>\n",
              "    </tr>\n",
              "  </tbody>\n",
              "</table>\n",
              "<p>420285 rows × 16 columns</p>\n",
              "</div>"
            ],
            "text/plain": [
              "        Store  Dept        Date  ...  Type    Size  IsHoliday\n",
              "0           1     1  2010-02-05  ...     A  151315      False\n",
              "1           1     2  2010-02-05  ...     A  151315      False\n",
              "2           1     3  2010-02-05  ...     A  151315      False\n",
              "3           1     4  2010-02-05  ...     A  151315      False\n",
              "4           1     5  2010-02-05  ...     A  151315      False\n",
              "...       ...   ...         ...  ...   ...     ...        ...\n",
              "421565     45    93  2012-10-26  ...     B  118221      False\n",
              "421566     45    94  2012-10-26  ...     B  118221      False\n",
              "421567     45    95  2012-10-26  ...     B  118221      False\n",
              "421568     45    97  2012-10-26  ...     B  118221      False\n",
              "421569     45    98  2012-10-26  ...     B  118221      False\n",
              "\n",
              "[420285 rows x 16 columns]"
            ]
          },
          "metadata": {
            "tags": []
          },
          "execution_count": 10
        }
      ]
    },
    {
      "cell_type": "markdown",
      "metadata": {
        "id": "TbbV3CYMAgOd"
      },
      "source": [
        ""
      ]
    },
    {
      "cell_type": "markdown",
      "metadata": {
        "id": "CACE9BzZAgOe"
      },
      "source": [
        "### Chuyển các categorical feature thành numerical"
      ]
    },
    {
      "cell_type": "code",
      "metadata": {
        "id": "aUdaShRhaYev"
      },
      "source": [
        "train_data = [data]\n",
        "type_mapping = {\"A\": 1, \"B\": 2, \"C\": 3}\n",
        "for dataset in train_data:\n",
        "    dataset['Type'] = dataset['Type'].map(type_mapping)\n"
      ],
      "execution_count": null,
      "outputs": []
    },
    {
      "cell_type": "code",
      "metadata": {
        "colab": {
          "base_uri": "https://localhost:8080/"
        },
        "id": "iuMaY02-aiRv",
        "outputId": "93c5a7d4-cfb0-46f4-e524-5d9b20988ccd"
      },
      "source": [
        "type_mapping = {False: 0, True: 1}\n",
        "for dataset in train_data:\n",
        "     dataset['IsHoliday'] = dataset['IsHoliday'].map(type_mapping)\n",
        "data"
      ],
      "execution_count": null,
      "outputs": [
        {
          "output_type": "execute_result",
          "data": {
            "text/html": [
              "<div>\n",
              "<style scoped>\n",
              "    .dataframe tbody tr th:only-of-type {\n",
              "        vertical-align: middle;\n",
              "    }\n",
              "\n",
              "    .dataframe tbody tr th {\n",
              "        vertical-align: top;\n",
              "    }\n",
              "\n",
              "    .dataframe thead th {\n",
              "        text-align: right;\n",
              "    }\n",
              "</style>\n",
              "<table border=\"1\" class=\"dataframe\">\n",
              "  <thead>\n",
              "    <tr style=\"text-align: right;\">\n",
              "      <th></th>\n",
              "      <th>Store</th>\n",
              "      <th>Dept</th>\n",
              "      <th>Date</th>\n",
              "      <th>Weekly_Sales</th>\n",
              "      <th>Temperature</th>\n",
              "      <th>Fuel_Price</th>\n",
              "      <th>MarkDown1</th>\n",
              "      <th>MarkDown2</th>\n",
              "      <th>MarkDown3</th>\n",
              "      <th>MarkDown4</th>\n",
              "      <th>MarkDown5</th>\n",
              "      <th>CPI</th>\n",
              "      <th>Unemployment</th>\n",
              "      <th>Type</th>\n",
              "      <th>Size</th>\n",
              "      <th>IsHoliday</th>\n",
              "    </tr>\n",
              "  </thead>\n",
              "  <tbody>\n",
              "    <tr>\n",
              "      <th>0</th>\n",
              "      <td>1</td>\n",
              "      <td>1</td>\n",
              "      <td>2010-02-05</td>\n",
              "      <td>24924.50</td>\n",
              "      <td>42.31</td>\n",
              "      <td>2.572</td>\n",
              "      <td>0.00</td>\n",
              "      <td>0.00</td>\n",
              "      <td>0.0</td>\n",
              "      <td>0.00</td>\n",
              "      <td>0.00</td>\n",
              "      <td>211.096358</td>\n",
              "      <td>8.106</td>\n",
              "      <td>1</td>\n",
              "      <td>151315</td>\n",
              "      <td>0</td>\n",
              "    </tr>\n",
              "    <tr>\n",
              "      <th>1</th>\n",
              "      <td>1</td>\n",
              "      <td>2</td>\n",
              "      <td>2010-02-05</td>\n",
              "      <td>50605.27</td>\n",
              "      <td>42.31</td>\n",
              "      <td>2.572</td>\n",
              "      <td>0.00</td>\n",
              "      <td>0.00</td>\n",
              "      <td>0.0</td>\n",
              "      <td>0.00</td>\n",
              "      <td>0.00</td>\n",
              "      <td>211.096358</td>\n",
              "      <td>8.106</td>\n",
              "      <td>1</td>\n",
              "      <td>151315</td>\n",
              "      <td>0</td>\n",
              "    </tr>\n",
              "    <tr>\n",
              "      <th>2</th>\n",
              "      <td>1</td>\n",
              "      <td>3</td>\n",
              "      <td>2010-02-05</td>\n",
              "      <td>13740.12</td>\n",
              "      <td>42.31</td>\n",
              "      <td>2.572</td>\n",
              "      <td>0.00</td>\n",
              "      <td>0.00</td>\n",
              "      <td>0.0</td>\n",
              "      <td>0.00</td>\n",
              "      <td>0.00</td>\n",
              "      <td>211.096358</td>\n",
              "      <td>8.106</td>\n",
              "      <td>1</td>\n",
              "      <td>151315</td>\n",
              "      <td>0</td>\n",
              "    </tr>\n",
              "    <tr>\n",
              "      <th>3</th>\n",
              "      <td>1</td>\n",
              "      <td>4</td>\n",
              "      <td>2010-02-05</td>\n",
              "      <td>39954.04</td>\n",
              "      <td>42.31</td>\n",
              "      <td>2.572</td>\n",
              "      <td>0.00</td>\n",
              "      <td>0.00</td>\n",
              "      <td>0.0</td>\n",
              "      <td>0.00</td>\n",
              "      <td>0.00</td>\n",
              "      <td>211.096358</td>\n",
              "      <td>8.106</td>\n",
              "      <td>1</td>\n",
              "      <td>151315</td>\n",
              "      <td>0</td>\n",
              "    </tr>\n",
              "    <tr>\n",
              "      <th>4</th>\n",
              "      <td>1</td>\n",
              "      <td>5</td>\n",
              "      <td>2010-02-05</td>\n",
              "      <td>32229.38</td>\n",
              "      <td>42.31</td>\n",
              "      <td>2.572</td>\n",
              "      <td>0.00</td>\n",
              "      <td>0.00</td>\n",
              "      <td>0.0</td>\n",
              "      <td>0.00</td>\n",
              "      <td>0.00</td>\n",
              "      <td>211.096358</td>\n",
              "      <td>8.106</td>\n",
              "      <td>1</td>\n",
              "      <td>151315</td>\n",
              "      <td>0</td>\n",
              "    </tr>\n",
              "    <tr>\n",
              "      <th>...</th>\n",
              "      <td>...</td>\n",
              "      <td>...</td>\n",
              "      <td>...</td>\n",
              "      <td>...</td>\n",
              "      <td>...</td>\n",
              "      <td>...</td>\n",
              "      <td>...</td>\n",
              "      <td>...</td>\n",
              "      <td>...</td>\n",
              "      <td>...</td>\n",
              "      <td>...</td>\n",
              "      <td>...</td>\n",
              "      <td>...</td>\n",
              "      <td>...</td>\n",
              "      <td>...</td>\n",
              "      <td>...</td>\n",
              "    </tr>\n",
              "    <tr>\n",
              "      <th>421565</th>\n",
              "      <td>45</td>\n",
              "      <td>93</td>\n",
              "      <td>2012-10-26</td>\n",
              "      <td>2487.80</td>\n",
              "      <td>58.85</td>\n",
              "      <td>3.882</td>\n",
              "      <td>4018.91</td>\n",
              "      <td>58.08</td>\n",
              "      <td>100.0</td>\n",
              "      <td>211.94</td>\n",
              "      <td>858.33</td>\n",
              "      <td>192.308899</td>\n",
              "      <td>8.667</td>\n",
              "      <td>2</td>\n",
              "      <td>118221</td>\n",
              "      <td>0</td>\n",
              "    </tr>\n",
              "    <tr>\n",
              "      <th>421566</th>\n",
              "      <td>45</td>\n",
              "      <td>94</td>\n",
              "      <td>2012-10-26</td>\n",
              "      <td>5203.31</td>\n",
              "      <td>58.85</td>\n",
              "      <td>3.882</td>\n",
              "      <td>4018.91</td>\n",
              "      <td>58.08</td>\n",
              "      <td>100.0</td>\n",
              "      <td>211.94</td>\n",
              "      <td>858.33</td>\n",
              "      <td>192.308899</td>\n",
              "      <td>8.667</td>\n",
              "      <td>2</td>\n",
              "      <td>118221</td>\n",
              "      <td>0</td>\n",
              "    </tr>\n",
              "    <tr>\n",
              "      <th>421567</th>\n",
              "      <td>45</td>\n",
              "      <td>95</td>\n",
              "      <td>2012-10-26</td>\n",
              "      <td>56017.47</td>\n",
              "      <td>58.85</td>\n",
              "      <td>3.882</td>\n",
              "      <td>4018.91</td>\n",
              "      <td>58.08</td>\n",
              "      <td>100.0</td>\n",
              "      <td>211.94</td>\n",
              "      <td>858.33</td>\n",
              "      <td>192.308899</td>\n",
              "      <td>8.667</td>\n",
              "      <td>2</td>\n",
              "      <td>118221</td>\n",
              "      <td>0</td>\n",
              "    </tr>\n",
              "    <tr>\n",
              "      <th>421568</th>\n",
              "      <td>45</td>\n",
              "      <td>97</td>\n",
              "      <td>2012-10-26</td>\n",
              "      <td>6817.48</td>\n",
              "      <td>58.85</td>\n",
              "      <td>3.882</td>\n",
              "      <td>4018.91</td>\n",
              "      <td>58.08</td>\n",
              "      <td>100.0</td>\n",
              "      <td>211.94</td>\n",
              "      <td>858.33</td>\n",
              "      <td>192.308899</td>\n",
              "      <td>8.667</td>\n",
              "      <td>2</td>\n",
              "      <td>118221</td>\n",
              "      <td>0</td>\n",
              "    </tr>\n",
              "    <tr>\n",
              "      <th>421569</th>\n",
              "      <td>45</td>\n",
              "      <td>98</td>\n",
              "      <td>2012-10-26</td>\n",
              "      <td>1076.80</td>\n",
              "      <td>58.85</td>\n",
              "      <td>3.882</td>\n",
              "      <td>4018.91</td>\n",
              "      <td>58.08</td>\n",
              "      <td>100.0</td>\n",
              "      <td>211.94</td>\n",
              "      <td>858.33</td>\n",
              "      <td>192.308899</td>\n",
              "      <td>8.667</td>\n",
              "      <td>2</td>\n",
              "      <td>118221</td>\n",
              "      <td>0</td>\n",
              "    </tr>\n",
              "  </tbody>\n",
              "</table>\n",
              "<p>420285 rows × 16 columns</p>\n",
              "</div>"
            ],
            "text/plain": [
              "        Store  Dept        Date  ...  Type    Size  IsHoliday\n",
              "0           1     1  2010-02-05  ...     1  151315          0\n",
              "1           1     2  2010-02-05  ...     1  151315          0\n",
              "2           1     3  2010-02-05  ...     1  151315          0\n",
              "3           1     4  2010-02-05  ...     1  151315          0\n",
              "4           1     5  2010-02-05  ...     1  151315          0\n",
              "...       ...   ...         ...  ...   ...     ...        ...\n",
              "421565     45    93  2012-10-26  ...     2  118221          0\n",
              "421566     45    94  2012-10-26  ...     2  118221          0\n",
              "421567     45    95  2012-10-26  ...     2  118221          0\n",
              "421568     45    97  2012-10-26  ...     2  118221          0\n",
              "421569     45    98  2012-10-26  ...     2  118221          0\n",
              "\n",
              "[420285 rows x 16 columns]"
            ]
          },
          "metadata": {
            "tags": []
          },
          "execution_count": 12
        }
      ]
    },
    {
      "cell_type": "code",
      "metadata": {
        "id": "wfiazhvbaoxF",
        "scrolled": true
      },
      "source": [
        ""
      ],
      "execution_count": null,
      "outputs": []
    },
    {
      "cell_type": "markdown",
      "metadata": {
        "id": "kUkHknvRa3Nn"
      },
      "source": [
        "### Tạo các feature mới"
      ]
    },
    {
      "cell_type": "code",
      "metadata": {
        "id": "XPqbeC3KbBvA"
      },
      "source": [
        "data['Super_Bowl'] = np.where(\n",
        "(data['Date']==datetime(2010,2,10).strftime(\"%Y-%m-%d\"))|\n",
        "(data['Date'] == datetime(2011,2,11).strftime(\"%Y-%m-%d\"))| \n",
        "(data['Date'] == datetime(2012,2,10).strftime(\"%Y-%m-%d\"))|\n",
        "(data['Date'] == datetime(2013,2,8).strftime(\"%Y-%m-%d\")), 1, 0)\n",
        "data['Labor_day'] = np.where(\n",
        "(data['Date'] == datetime(2010,9,10).strftime(\"%Y-%m-%d\"))|\n",
        "(data['Date'] == datetime(2011,9,9).strftime(\"%Y-%m-%d\"))| \n",
        "(data['Date'] == datetime(2012,9,7).strftime(\"%Y-%m-%d\"))|\n",
        "(data['Date'] == datetime(2013,9,6).strftime(\"%Y-%m-%d\")), 1, 0)\n",
        "data['Thanksgiving'] = np.where(\n",
        "(data['Date']==datetime(2010, 11, 26).strftime(\"%Y-%m-%d\")) | \n",
        "(data['Date']==datetime(2011, 11, 25).strftime(\"%Y-%m-%d\")) | \n",
        "(data['Date']==datetime(2012, 11, 23).strftime(\"%Y-%m-%d\")) |\n",
        "(data['Date']==datetime(2013, 11, 29).strftime(\"%Y-%m-%d\")),1,0)\n",
        "data['Christmas'] = np.where(\n",
        "(data['Date']==datetime(2010, 12, 31).strftime(\"%Y-%m-%d\"))|\n",
        "(data['Date']==datetime(2011, 12, 30).strftime(\"%Y-%m-%d\"))| \n",
        "(data['Date']==datetime(2012, 12, 28).strftime(\"%Y-%m-%d\"))|\n",
        "(data['Date']==datetime(2013, 12, 27).strftime(\"%Y-%m-%d\")),1,0)"
      ],
      "execution_count": null,
      "outputs": []
    },
    {
      "cell_type": "markdown",
      "metadata": {
        "id": "46hGGIoBbG63"
      },
      "source": [
        "### Drop date và phân tập train, test, validate"
      ]
    },
    {
      "cell_type": "code",
      "metadata": {
        "id": "R3AR8YjbbNln"
      },
      "source": [
        "data = data.sort_values(by='Date', ascending=True)\n",
        "data.drop('Date', axis = 1, inplace = True)\n",
        "y = data['Weekly_Sales']\n",
        "X = data.drop(['Weekly_Sales'], axis=1)\n",
        "X_train, X_test, y_train, y_test = train_test_split(X, y, test_size=0.2)\n",
        "X_train, X_cv, y_train, y_cv = train_test_split(X_train, y_train, test_size=0.25)"
      ],
      "execution_count": null,
      "outputs": []
    },
    {
      "cell_type": "markdown",
      "metadata": {
        "id": "fyVm9UAvAgOh"
      },
      "source": [
        "### Heatmap"
      ]
    },
    {
      "cell_type": "code",
      "metadata": {
        "colab": {
          "base_uri": "https://localhost:8080/"
        },
        "id": "omRA1qz7AgOh",
        "outputId": "3d1fc85c-e229-4483-8bfc-0dcd060e6178"
      },
      "source": [
        "plt.figure(figsize = (20,20))\n",
        "# feats = ['Store', 'Dept', 'Weekly_Sales', 'Temperature', 'Fuel_Price', 'MarkDown3', 'CPI', 'Unemployment', 'Type', 'Size', 'IsHoliday']\n",
        "corrMt = data.corr()\n",
        "sns.heatmap(corrMt, annot = True)\n",
        "plt.show()"
      ],
      "execution_count": null,
      "outputs": [
        {
          "output_type": "display_data",
          "data": {
            "image/png": "[encoded data removed]",
            "text/plain": [
              "<Figure size 1440x1440 with 2 Axes>"
            ]
          },
          "metadata": {
            "tags": [],
            "needs_background": "light"
          }
        }
      ]
    },
    {
      "cell_type": "markdown",
      "metadata": {
        "id": "n9xbZYVcS5gN"
      },
      "source": [
        "# MODEL 1: Linear Regression, Deep Learning"
      ]
    },
    {
      "cell_type": "code",
      "metadata": {
        "id": "UWGQ_dwYhWmu"
      },
      "source": [
        "def wmae_test(test, pred): # WMAE for test\n",
        "  weights = X_test['IsHoliday'].apply(lambda is_holiday:5 if is_holiday else 1)\n",
        "  error = np.sum(weights * np.abs(test - pred), axis=0) / np.sum(weights)\n",
        "  return error"
      ],
      "execution_count": null,
      "outputs": []
    },
    {
      "cell_type": "code",
      "metadata": {
        "colab": {
          "base_uri": "https://localhost:8080/",
          "height": 215
        },
        "id": "11SWbqbCJmZh",
        "outputId": "6d4ca37c-e3cd-4abe-fb8a-e81c84dc2184"
      },
      "source": [
        "# chuẩn hoá giá trị về khoảng 0-1 sử dụng min max scaler\n",
        "\n",
        "from sklearn.preprocessing import MinMaxScaler\n",
        "train_columns = X_train.columns\n",
        "mat_x_train = np.matrix(X_train)\n",
        "mat_y_train = np.matrix(y_train).reshape((252171 , 1))\n",
        "mat_x_test = np.matrix(X_test)\n",
        "mat_y_test = np.matrix(y_test).reshape((84057 , 1))\n",
        "prepo_x_train=MinMaxScaler()\n",
        "prepo_x_train.fit(mat_x_train)\n",
        "prepo_x_test=MinMaxScaler()\n",
        "prepo_x_test.fit(mat_x_test)\n",
        "prepo_y_train=MinMaxScaler()\n",
        "prepo_y_train.fit(mat_y_train)\n",
        "prepo_y_test=MinMaxScaler()\n",
        "prepo_y_test.fit(mat_y_test)\n",
        "train = pd.DataFrame(prepo_x_train.transform(mat_x_train), columns= train_columns)\n",
        "train.head()"
      ],
      "execution_count": null,
      "outputs": [
        {
          "output_type": "execute_result",
          "data": {
            "text/html": [
              "<div>\n",
              "<style scoped>\n",
              "    .dataframe tbody tr th:only-of-type {\n",
              "        vertical-align: middle;\n",
              "    }\n",
              "\n",
              "    .dataframe tbody tr th {\n",
              "        vertical-align: top;\n",
              "    }\n",
              "\n",
              "    .dataframe thead th {\n",
              "        text-align: right;\n",
              "    }\n",
              "</style>\n",
              "<table border=\"1\" class=\"dataframe\">\n",
              "  <thead>\n",
              "    <tr style=\"text-align: right;\">\n",
              "      <th></th>\n",
              "      <th>Store</th>\n",
              "      <th>Dept</th>\n",
              "      <th>Temperature</th>\n",
              "      <th>Fuel_Price</th>\n",
              "      <th>MarkDown1</th>\n",
              "      <th>MarkDown2</th>\n",
              "      <th>MarkDown3</th>\n",
              "      <th>MarkDown4</th>\n",
              "      <th>MarkDown5</th>\n",
              "      <th>CPI</th>\n",
              "      <th>Unemployment</th>\n",
              "      <th>Type</th>\n",
              "      <th>Size</th>\n",
              "      <th>IsHoliday</th>\n",
              "      <th>Super_Bowl</th>\n",
              "      <th>Labor_day</th>\n",
              "      <th>Thanksgiving</th>\n",
              "      <th>Christmas</th>\n",
              "    </tr>\n",
              "  </thead>\n",
              "  <tbody>\n",
              "    <tr>\n",
              "      <th>0</th>\n",
              "      <td>0.250000</td>\n",
              "      <td>0.938776</td>\n",
              "      <td>0.765753</td>\n",
              "      <td>0.324649</td>\n",
              "      <td>0.000000</td>\n",
              "      <td>0.002536</td>\n",
              "      <td>0.000205</td>\n",
              "      <td>0.000000</td>\n",
              "      <td>0.000000</td>\n",
              "      <td>0.001190</td>\n",
              "      <td>0.979490</td>\n",
              "      <td>0.5</td>\n",
              "      <td>0.418751</td>\n",
              "      <td>0.0</td>\n",
              "      <td>0.0</td>\n",
              "      <td>0.0</td>\n",
              "      <td>0.0</td>\n",
              "      <td>0.0</td>\n",
              "    </tr>\n",
              "    <tr>\n",
              "      <th>1</th>\n",
              "      <td>0.068182</td>\n",
              "      <td>0.438776</td>\n",
              "      <td>0.356849</td>\n",
              "      <td>0.396293</td>\n",
              "      <td>0.041358</td>\n",
              "      <td>0.141424</td>\n",
              "      <td>0.000745</td>\n",
              "      <td>0.012158</td>\n",
              "      <td>0.054878</td>\n",
              "      <td>0.041317</td>\n",
              "      <td>0.069772</td>\n",
              "      <td>0.0</td>\n",
              "      <td>0.925525</td>\n",
              "      <td>0.0</td>\n",
              "      <td>0.0</td>\n",
              "      <td>0.0</td>\n",
              "      <td>0.0</td>\n",
              "      <td>0.0</td>\n",
              "    </tr>\n",
              "    <tr>\n",
              "      <th>2</th>\n",
              "      <td>0.727273</td>\n",
              "      <td>0.806122</td>\n",
              "      <td>0.639922</td>\n",
              "      <td>0.623246</td>\n",
              "      <td>0.000000</td>\n",
              "      <td>0.002536</td>\n",
              "      <td>0.000205</td>\n",
              "      <td>0.000000</td>\n",
              "      <td>0.000000</td>\n",
              "      <td>0.025226</td>\n",
              "      <td>0.486103</td>\n",
              "      <td>0.0</td>\n",
              "      <td>0.026063</td>\n",
              "      <td>0.0</td>\n",
              "      <td>0.0</td>\n",
              "      <td>0.0</td>\n",
              "      <td>0.0</td>\n",
              "      <td>0.0</td>\n",
              "    </tr>\n",
              "    <tr>\n",
              "      <th>3</th>\n",
              "      <td>0.204545</td>\n",
              "      <td>0.959184</td>\n",
              "      <td>0.524168</td>\n",
              "      <td>0.455411</td>\n",
              "      <td>0.000000</td>\n",
              "      <td>0.002536</td>\n",
              "      <td>0.000205</td>\n",
              "      <td>0.000000</td>\n",
              "      <td>0.000000</td>\n",
              "      <td>0.017744</td>\n",
              "      <td>0.466264</td>\n",
              "      <td>0.5</td>\n",
              "      <td>0.496013</td>\n",
              "      <td>1.0</td>\n",
              "      <td>1.0</td>\n",
              "      <td>0.0</td>\n",
              "      <td>0.0</td>\n",
              "      <td>0.0</td>\n",
              "    </tr>\n",
              "    <tr>\n",
              "      <th>4</th>\n",
              "      <td>0.340909</td>\n",
              "      <td>0.214286</td>\n",
              "      <td>0.161448</td>\n",
              "      <td>0.430361</td>\n",
              "      <td>0.025151</td>\n",
              "      <td>0.002803</td>\n",
              "      <td>0.000726</td>\n",
              "      <td>0.025146</td>\n",
              "      <td>0.059581</td>\n",
              "      <td>0.690037</td>\n",
              "      <td>0.225513</td>\n",
              "      <td>0.5</td>\n",
              "      <td>0.120825</td>\n",
              "      <td>0.0</td>\n",
              "      <td>0.0</td>\n",
              "      <td>0.0</td>\n",
              "      <td>0.0</td>\n",
              "      <td>0.0</td>\n",
              "    </tr>\n",
              "  </tbody>\n",
              "</table>\n",
              "</div>"
            ],
            "text/plain": [
              "      Store      Dept  Temperature  ...  Labor_day  Thanksgiving  Christmas\n",
              "0  0.250000  0.938776     0.765753  ...        0.0           0.0        0.0\n",
              "1  0.068182  0.438776     0.356849  ...        0.0           0.0        0.0\n",
              "2  0.727273  0.806122     0.639922  ...        0.0           0.0        0.0\n",
              "3  0.204545  0.959184     0.524168  ...        0.0           0.0        0.0\n",
              "4  0.340909  0.214286     0.161448  ...        0.0           0.0        0.0\n",
              "\n",
              "[5 rows x 18 columns]"
            ]
          },
          "metadata": {
            "tags": []
          },
          "execution_count": 17
        }
      ]
    },
    {
      "cell_type": "code",
      "metadata": {
        "id": "uB3Trr65J8Zr"
      },
      "source": [
        "X_train = prepo_x_train.transform(mat_x_train)\n",
        "X_test = prepo_x_test.transform(mat_x_test)\n",
        "y_train = prepo_y_train.transform(mat_y_train)\n",
        "y_test = prepo_y_test.transform(mat_y_test)"
      ],
      "execution_count": null,
      "outputs": []
    },
    {
      "cell_type": "markdown",
      "metadata": {
        "id": "IVW1yBG3GzZI"
      },
      "source": [
        "MODEL 1: Linear Regression, loss : mse, acc: r2_score"
      ]
    },
    {
      "cell_type": "code",
      "metadata": {
        "colab": {
          "base_uri": "https://localhost:8080/"
        },
        "id": "jeakDXO3ISUb",
        "outputId": "378297e3-6f24-43d9-fcab-4bdf9ff0d1ba"
      },
      "source": [
        "from sklearn import linear_model\n",
        "import sklearn\n",
        "from sklearn.metrics import mean_squared_error, r2_score\n",
        "\n",
        "cfl = linear_model.LinearRegression()\n",
        "\n",
        "cfl.fit(X_train, y_train)"
      ],
      "execution_count": null,
      "outputs": [
        {
          "output_type": "execute_result",
          "data": {
            "text/plain": [
              "LinearRegression(copy_X=True, fit_intercept=True, n_jobs=None, normalize=False)"
            ]
          },
          "metadata": {
            "tags": []
          },
          "execution_count": 18
        }
      ]
    },
    {
      "cell_type": "code",
      "metadata": {
        "colab": {
          "base_uri": "https://localhost:8080/"
        },
        "id": "XwgsxWkclclz",
        "outputId": "91d49c05-b4fe-475d-ad9e-58cebdc708fc"
      },
      "source": [
        "print(wmae_test(y_test, diabetes_y_pred))"
      ],
      "execution_count": null,
      "outputs": [
        {
          "output_type": "stream",
          "text": [
            "14896.535731985949\n"
          ],
          "name": "stdout"
        }
      ]
    },
    {
      "cell_type": "code",
      "metadata": {
        "colab": {
          "base_uri": "https://localhost:8080/"
        },
        "id": "YeoRG2PXJEVp",
        "outputId": "f72fa864-0524-4e2b-81bf-310e283b12b4"
      },
      "source": [
        "diabetes_y_pred = cfl.predict(X_test)\n",
        "\n",
        "print('Coefficients: \\n', cfl.coef_)\n",
        "\n",
        "print('Mean squared error: %.2f'\n",
        "      % (mean_squared_error(y_test, diabetes_y_pred)*100))\n",
        "A1=mean_squared_error(y_test, diabetes_y_pred)\n",
        "print('Coefficient of determination: %.2f'\n",
        "      % r2_score(y_test, diabetes_y_pred))"
      ],
      "execution_count": null,
      "outputs": [
        {
          "output_type": "stream",
          "text": [
            "Coefficients: \n",
            " [-9.44389527e+01  1.12974702e+02  2.71285263e+01 -5.41035822e+02\n",
            " -1.29262617e-03  1.97448236e-02  3.74617196e-02  1.86541723e-02\n",
            "  9.13420032e-02 -2.30696807e+01 -2.26803960e+02  1.99317381e+03\n",
            "  1.04181284e-01  7.42239723e+02  8.00015845e+01 -1.17157873e+03\n",
            "  5.00162907e+03 -2.03826940e+03]\n",
            "Mean squared error: 47894349790.71\n",
            "Coefficient of determination: 0.09\n"
          ],
          "name": "stdout"
        }
      ]
    },
    {
      "cell_type": "code",
      "metadata": {
        "colab": {
          "base_uri": "https://localhost:8080/"
        },
        "id": "Zl2KRyWwLmnI",
        "outputId": "5ee5c574-4549-482f-f7d1-054c84ba9999"
      },
      "source": [
        "print(diabetes_y_pred)"
      ],
      "execution_count": null,
      "outputs": [
        {
          "output_type": "stream",
          "text": [
            "[[ 0.02159877]\n",
            " [ 0.04474242]\n",
            " [ 0.02749842]\n",
            " ...\n",
            " [ 0.022497  ]\n",
            " [-0.00060373]\n",
            " [ 0.02287617]]\n"
          ],
          "name": "stdout"
        }
      ]
    },
    {
      "cell_type": "markdown",
      "metadata": {
        "id": "_KIZvA9rT-y6"
      },
      "source": [
        "Nhận xét: Bài toán thuộc loại bài toán phân cụm dựa trên các features, nên có vẻ việc sử dụng linear regression như các bài dự đoán giá sẽ không hiệu quả với độ chính xác rất thấp (r2_score ~ 9%)"
      ]
    },
    {
      "cell_type": "markdown",
      "metadata": {
        "id": "BQzyZDavQEkh"
      },
      "source": [
        "Model 2. Deep Learning dựa trên Linear Regression"
      ]
    },
    {
      "cell_type": "code",
      "metadata": {
        "id": "kIw9QBBkQwfX"
      },
      "source": [
        "import pandas as pd\n",
        "from tensorflow.keras.callbacks import EarlyStopping\n",
        "from tensorflow.keras.models import Sequential\n",
        "from tensorflow.keras.layers import Dense\n",
        "import math\n",
        "from sklearn.model_selection import train_test_split\n",
        "from sklearn.preprocessing import MinMaxScaler\n",
        "from sklearn.metrics import mean_squared_error, mean_absolute_error\n",
        "import random\n",
        "import io\n",
        "import numpy as np"
      ],
      "execution_count": null,
      "outputs": []
    },
    {
      "cell_type": "code",
      "metadata": {
        "id": "qPV_PDhwQH0S"
      },
      "source": [
        "# model\n",
        "model = Sequential()\n",
        "model.add(Dense(18, activation='relu'))\n",
        "model.add(Dense(18, activation='relu'))\n",
        "model.add(Dense(18, activation='relu'))\n",
        "model.add(Dense(18, activation='relu'))\n",
        "model.add(Dense(18, activation='relu'))\n",
        "model.add(Dense(18, activation='relu'))\n",
        "model.add(Dense(1))\n",
        "model.compile(optimizer='adam', loss='mse')"
      ],
      "execution_count": null,
      "outputs": []
    },
    {
      "cell_type": "code",
      "metadata": {
        "colab": {
          "base_uri": "https://localhost:8080/"
        },
        "id": "wgHTA_0wQ1Xn",
        "outputId": "df074bac-7d21-44ba-b8f6-05e5a2f01378"
      },
      "source": [
        "# train\n",
        "early_stop = EarlyStopping(monitor='val_loss', mode='min', verbose=1, patience=20)\n",
        "model.fit(x=X_train, y=y_train, validation_data=(X_test, y_test),\n",
        "          batch_size=128, epochs=5,callbacks=[early_stop])\n",
        "model.summary()"
      ],
      "execution_count": null,
      "outputs": [
        {
          "output_type": "stream",
          "text": [
            "Epoch 1/5\n",
            "1971/1971 [==============================] - 6s 3ms/step - loss: 6.0920e-04 - val_loss: 7.4183e-04\n",
            "Epoch 2/5\n",
            "1971/1971 [==============================] - 6s 3ms/step - loss: 6.1271e-04 - val_loss: 7.1303e-04\n",
            "Epoch 3/5\n",
            "1971/1971 [==============================] - 5s 3ms/step - loss: 5.6860e-04 - val_loss: 6.6742e-04\n",
            "Epoch 4/5\n",
            "1971/1971 [==============================] - 6s 3ms/step - loss: 5.3882e-04 - val_loss: 7.4091e-04\n",
            "Epoch 5/5\n",
            "1971/1971 [==============================] - 5s 3ms/step - loss: 5.1621e-04 - val_loss: 6.2824e-04\n",
            "Model: \"sequential_1\"\n",
            "_________________________________________________________________\n",
            "Layer (type)                 Output Shape              Param #   \n",
            "=================================================================\n",
            "dense_7 (Dense)              (None, 18)                342       \n",
            "_________________________________________________________________\n",
            "dense_8 (Dense)              (None, 18)                342       \n",
            "_________________________________________________________________\n",
            "dense_9 (Dense)              (None, 18)                342       \n",
            "_________________________________________________________________\n",
            "dense_10 (Dense)             (None, 18)                342       \n",
            "_________________________________________________________________\n",
            "dense_11 (Dense)             (None, 18)                342       \n",
            "_________________________________________________________________\n",
            "dense_12 (Dense)             (None, 18)                342       \n",
            "_________________________________________________________________\n",
            "dense_13 (Dense)             (None, 1)                 19        \n",
            "=================================================================\n",
            "Total params: 2,071\n",
            "Trainable params: 2,071\n",
            "Non-trainable params: 0\n",
            "_________________________________________________________________\n"
          ],
          "name": "stdout"
        }
      ]
    },
    {
      "cell_type": "code",
      "metadata": {
        "colab": {
          "base_uri": "https://localhost:8080/"
        },
        "id": "BH7ZBn1BRUNi",
        "outputId": "02a787ca-f68d-47d5-cc25-88105ff7ea77"
      },
      "source": [
        "pred_3=model.predict(X_test)\n",
        "print(sklearn.metrics.r2_score(y_test, pred_3, sample_weight=None, multioutput='uniform_average'))"
      ],
      "execution_count": null,
      "outputs": [
        {
          "output_type": "stream",
          "text": [
            "0.5164866784356064\n"
          ],
          "name": "stdout"
        }
      ]
    },
    {
      "cell_type": "markdown",
      "metadata": {
        "id": "wtD_wMFSVPrf"
      },
      "source": [
        "Kết quả có khá hơn ( r2 = 0.59) tuy nhiên kết quả này vẫn không đạt kỳ vọng. "
      ]
    },
    {
      "cell_type": "markdown",
      "metadata": {
        "id": "DChjec_Mi-pt"
      },
      "source": [
        "Model 3: Ensemble Learning\n"
      ]
    },
    {
      "cell_type": "code",
      "metadata": {
        "colab": {
          "base_uri": "https://localhost:8080/"
        },
        "id": "QDbFe6tBjBnj",
        "outputId": "3a4c2664-3ecd-4b4a-f657-5a0bef91406b"
      },
      "source": [
        "from sklearn.tree import DecisionTreeRegressor\n",
        "from sklearn.svm import SVR\n",
        "from sklearn.ensemble import BaggingRegressor\n",
        "from sklearn.datasets import make_regression\n",
        "\n",
        "fitted4 = BaggingRegressor(base_estimator=DecisionTreeRegressor(), n_estimators=10, random_state=0).fit(X_train, y_train)"
      ],
      "execution_count": null,
      "outputs": [
        {
          "output_type": "stream",
          "text": [
            "/usr/local/lib/python3.7/dist-packages/sklearn/ensemble/_bagging.py:399: DataConversionWarning: A column-vector y was passed when a 1d array was expected. Please change the shape of y to (n_samples, ), for example using ravel().\n",
            "  return column_or_1d(y, warn=True)\n"
          ],
          "name": "stderr"
        }
      ]
    },
    {
      "cell_type": "code",
      "metadata": {
        "colab": {
          "base_uri": "https://localhost:8080/"
        },
        "id": "Vd3Em3XKjDmM",
        "outputId": "e892b6b1-caad-42ff-ffaa-00348b0e69c3"
      },
      "source": [
        "pred_4 = fitted4.predict(X_test)\n",
        "print(sklearn.metrics.r2_score(y_test, pred_4, sample_weight=None, multioutput='uniform_average'))"
      ],
      "execution_count": null,
      "outputs": [
        {
          "output_type": "stream",
          "text": [
            "0.9393963808934197\n"
          ],
          "name": "stdout"
        }
      ]
    },
    {
      "cell_type": "markdown",
      "metadata": {
        "id": "CtxA8g5MjKLb"
      },
      "source": [
        "Với Ensemble learning, ta đã có độ chính xác khá cao : ~94%."
      ]
    },
    {
      "cell_type": "markdown",
      "metadata": {
        "id": "ymf7cqTaSycW"
      },
      "source": [
        "# MODEL 2: Random Forest, KNN"
      ]
    },
    {
      "cell_type": "markdown",
      "metadata": {
        "id": "YkDR8upvAgOi"
      },
      "source": [
        "## 6. Model 2 - Random Forest, KNN\n"
      ]
    },
    {
      "cell_type": "markdown",
      "metadata": {
        "id": "NSw8kKnBAgOi"
      },
      "source": [
        "### Evaluate metric"
      ]
    },
    {
      "cell_type": "code",
      "metadata": {
        "id": "AtuhECk5bikz"
      },
      "source": [
        "def wmae_train(test, pred): \n",
        "  weights = X_train['IsHoliday'].apply(lambda is_holiday:5 if   is_holiday else 1)\n",
        "  error = np.sum(weights * np.abs(test - pred), axis=0) / np.sum(weights)\n",
        "  return error\n",
        "def wmae_cv(test, pred): # WMAE for CV\n",
        "  weights = X_cv['IsHoliday'].apply(lambda is_holiday:5 if is_holiday else 1)\n",
        "  error = np.sum(weights * np.abs(test - pred), axis=0) / np.sum(weights)\n",
        "  return error\n",
        "def wmae_test(test, pred): # WMAE for test\n",
        "  weights = X_test['IsHoliday'].apply(lambda is_holiday:5 if is_holiday else 1)\n",
        "  error = np.sum(weights * np.abs(test - pred), axis=0) / np.sum(weights)\n",
        "  return error"
      ],
      "execution_count": null,
      "outputs": []
    },
    {
      "cell_type": "code",
      "metadata": {
        "id": "8MmUYAaxbmyx"
      },
      "source": [
        "# Importing the most popular regression libraries.\n",
        "from sklearn.linear_model import LinearRegression \n",
        "from sklearn.neighbors import KNeighborsRegressor\n",
        "from sklearn.linear_model import Ridge\n",
        "from sklearn.linear_model import Lasso\n",
        "from sklearn.tree import DecisionTreeRegressor\n",
        "from sklearn.ensemble import RandomForestRegressor\n",
        "from sklearn.ensemble import ExtraTreesRegressor\n",
        "# from xgboost import XGBRegressor"
      ],
      "execution_count": null,
      "outputs": []
    },
    {
      "cell_type": "markdown",
      "metadata": {
        "id": "tJcimjvaAgOj"
      },
      "source": [
        "### Random Forest"
      ]
    },
    {
      "cell_type": "code",
      "metadata": {
        "colab": {
          "base_uri": "https://localhost:8080/"
        },
        "id": "u6YNI5qfbqB_",
        "outputId": "c559cd90-06ad-4bc5-a3e5-2d5d0d07b1ac"
      },
      "source": [
        "error_cv_rf = []\n",
        "error_train_rf = []\n",
        "max_depth = [5, 15, 20, 30, 50]\n",
        "n_estimators = [20, 50, 80, 100]\n",
        "rf_hyperparams = []\n",
        "\n",
        "for i in max_depth: \n",
        "    for j in n_estimators: \n",
        "        rf = RandomForestRegressor(max_depth=i, n_estimators=j) \n",
        "        rf.fit(X_train, y_train) \n",
        "        y_pred_cv_rf = rf.predict(X_cv) \n",
        "        y_pred_train_rf = rf.predict(X_train)\n",
        "        cv_err = wmae_cv(y_cv, y_pred_cv_rf)\n",
        "        error_cv_rf.append(cv_err) \n",
        "        error_train_rf.append(wmae_train(y_train, y_pred_train_rf)) \n",
        "        rf_hyperparams.append({'Maximum Depth':i, 'No. of Estimators':j})\n",
        "        print(cv_err)"
      ],
      "execution_count": null,
      "outputs": [
        {
          "output_type": "stream",
          "text": [
            "9468.859008978068\n",
            "9501.889917538087\n",
            "9515.025048822274\n",
            "9468.523597940371\n",
            "2516.2879266094333\n",
            "2507.4810522668868\n",
            "2501.4300410418746\n",
            "2495.113626775413\n",
            "2159.6888606554617\n",
            "2132.912008173459\n",
            "2132.4613702035167\n",
            "2129.2796995933363\n",
            "2116.3950677997504\n",
            "2079.1089197140363\n",
            "2073.3973904512895\n",
            "2067.528763097192\n",
            "2110.225782740103\n",
            "2073.750463920956\n",
            "2074.606257158504\n",
            "2068.1351497777123\n"
          ],
          "name": "stdout"
        }
      ]
    },
    {
      "cell_type": "code",
      "metadata": {
        "colab": {
          "base_uri": "https://localhost:8080/"
        },
        "id": "6i3_jvOrloK2",
        "outputId": "3d23488b-a954-456b-940e-f10e8ec1a2d7"
      },
      "source": [
        "rf_dataframe = pd.DataFrame(rf_hyperparams)\n",
        "rf_dataframe['Train Error']=error_train_rf\n",
        "rf_dataframe['CV Error']=error_cv_rf\n",
        "rf_dataframe.sort_values(by=['CV Error'], ascending=True)\n"
      ],
      "execution_count": null,
      "outputs": [
        {
          "output_type": "execute_result",
          "data": {
            "text/html": [
              "<div>\n",
              "<style scoped>\n",
              "    .dataframe tbody tr th:only-of-type {\n",
              "        vertical-align: middle;\n",
              "    }\n",
              "\n",
              "    .dataframe tbody tr th {\n",
              "        vertical-align: top;\n",
              "    }\n",
              "\n",
              "    .dataframe thead th {\n",
              "        text-align: right;\n",
              "    }\n",
              "</style>\n",
              "<table border=\"1\" class=\"dataframe\">\n",
              "  <thead>\n",
              "    <tr style=\"text-align: right;\">\n",
              "      <th></th>\n",
              "      <th>Maximum Depth</th>\n",
              "      <th>No. of Estimators</th>\n",
              "      <th>Train Error</th>\n",
              "      <th>CV Error</th>\n",
              "    </tr>\n",
              "  </thead>\n",
              "  <tbody>\n",
              "    <tr>\n",
              "      <th>15</th>\n",
              "      <td>30</td>\n",
              "      <td>100</td>\n",
              "      <td>769.082684</td>\n",
              "      <td>2067.528763</td>\n",
              "    </tr>\n",
              "    <tr>\n",
              "      <th>19</th>\n",
              "      <td>50</td>\n",
              "      <td>100</td>\n",
              "      <td>764.796620</td>\n",
              "      <td>2068.135150</td>\n",
              "    </tr>\n",
              "    <tr>\n",
              "      <th>14</th>\n",
              "      <td>30</td>\n",
              "      <td>80</td>\n",
              "      <td>773.314656</td>\n",
              "      <td>2073.397390</td>\n",
              "    </tr>\n",
              "    <tr>\n",
              "      <th>17</th>\n",
              "      <td>50</td>\n",
              "      <td>50</td>\n",
              "      <td>775.507281</td>\n",
              "      <td>2073.750464</td>\n",
              "    </tr>\n",
              "    <tr>\n",
              "      <th>18</th>\n",
              "      <td>50</td>\n",
              "      <td>80</td>\n",
              "      <td>767.461193</td>\n",
              "      <td>2074.606257</td>\n",
              "    </tr>\n",
              "    <tr>\n",
              "      <th>13</th>\n",
              "      <td>30</td>\n",
              "      <td>50</td>\n",
              "      <td>782.615648</td>\n",
              "      <td>2079.108920</td>\n",
              "    </tr>\n",
              "    <tr>\n",
              "      <th>16</th>\n",
              "      <td>50</td>\n",
              "      <td>20</td>\n",
              "      <td>804.207241</td>\n",
              "      <td>2110.225783</td>\n",
              "    </tr>\n",
              "    <tr>\n",
              "      <th>12</th>\n",
              "      <td>30</td>\n",
              "      <td>20</td>\n",
              "      <td>807.290083</td>\n",
              "      <td>2116.395068</td>\n",
              "    </tr>\n",
              "    <tr>\n",
              "      <th>11</th>\n",
              "      <td>20</td>\n",
              "      <td>100</td>\n",
              "      <td>1135.528803</td>\n",
              "      <td>2129.279700</td>\n",
              "    </tr>\n",
              "    <tr>\n",
              "      <th>10</th>\n",
              "      <td>20</td>\n",
              "      <td>80</td>\n",
              "      <td>1136.559324</td>\n",
              "      <td>2132.461370</td>\n",
              "    </tr>\n",
              "    <tr>\n",
              "      <th>9</th>\n",
              "      <td>20</td>\n",
              "      <td>50</td>\n",
              "      <td>1137.466338</td>\n",
              "      <td>2132.912008</td>\n",
              "    </tr>\n",
              "    <tr>\n",
              "      <th>8</th>\n",
              "      <td>20</td>\n",
              "      <td>20</td>\n",
              "      <td>1164.172536</td>\n",
              "      <td>2159.688861</td>\n",
              "    </tr>\n",
              "    <tr>\n",
              "      <th>7</th>\n",
              "      <td>15</td>\n",
              "      <td>100</td>\n",
              "      <td>2002.021668</td>\n",
              "      <td>2495.113627</td>\n",
              "    </tr>\n",
              "    <tr>\n",
              "      <th>6</th>\n",
              "      <td>15</td>\n",
              "      <td>80</td>\n",
              "      <td>2004.514194</td>\n",
              "      <td>2501.430041</td>\n",
              "    </tr>\n",
              "    <tr>\n",
              "      <th>5</th>\n",
              "      <td>15</td>\n",
              "      <td>50</td>\n",
              "      <td>2006.844148</td>\n",
              "      <td>2507.481052</td>\n",
              "    </tr>\n",
              "    <tr>\n",
              "      <th>4</th>\n",
              "      <td>15</td>\n",
              "      <td>20</td>\n",
              "      <td>2026.709268</td>\n",
              "      <td>2516.287927</td>\n",
              "    </tr>\n",
              "    <tr>\n",
              "      <th>3</th>\n",
              "      <td>5</td>\n",
              "      <td>100</td>\n",
              "      <td>9481.778258</td>\n",
              "      <td>9468.523598</td>\n",
              "    </tr>\n",
              "    <tr>\n",
              "      <th>0</th>\n",
              "      <td>5</td>\n",
              "      <td>20</td>\n",
              "      <td>9484.584985</td>\n",
              "      <td>9468.859009</td>\n",
              "    </tr>\n",
              "    <tr>\n",
              "      <th>1</th>\n",
              "      <td>5</td>\n",
              "      <td>50</td>\n",
              "      <td>9515.286337</td>\n",
              "      <td>9501.889918</td>\n",
              "    </tr>\n",
              "    <tr>\n",
              "      <th>2</th>\n",
              "      <td>5</td>\n",
              "      <td>80</td>\n",
              "      <td>9529.390936</td>\n",
              "      <td>9515.025049</td>\n",
              "    </tr>\n",
              "  </tbody>\n",
              "</table>\n",
              "</div>"
            ],
            "text/plain": [
              "    Maximum Depth  No. of Estimators  Train Error     CV Error\n",
              "15             30                100   769.082684  2067.528763\n",
              "19             50                100   764.796620  2068.135150\n",
              "14             30                 80   773.314656  2073.397390\n",
              "17             50                 50   775.507281  2073.750464\n",
              "18             50                 80   767.461193  2074.606257\n",
              "13             30                 50   782.615648  2079.108920\n",
              "16             50                 20   804.207241  2110.225783\n",
              "12             30                 20   807.290083  2116.395068\n",
              "11             20                100  1135.528803  2129.279700\n",
              "10             20                 80  1136.559324  2132.461370\n",
              "9              20                 50  1137.466338  2132.912008\n",
              "8              20                 20  1164.172536  2159.688861\n",
              "7              15                100  2002.021668  2495.113627\n",
              "6              15                 80  2004.514194  2501.430041\n",
              "5              15                 50  2006.844148  2507.481052\n",
              "4              15                 20  2026.709268  2516.287927\n",
              "3               5                100  9481.778258  9468.523598\n",
              "0               5                 20  9484.584985  9468.859009\n",
              "1               5                 50  9515.286337  9501.889918\n",
              "2               5                 80  9529.390936  9515.025049"
            ]
          },
          "metadata": {
            "tags": []
          },
          "execution_count": 88
        }
      ]
    },
    {
      "cell_type": "code",
      "metadata": {
        "id": "MAewPlYsAgOl"
      },
      "source": [
        "X_after_train = pd.concat([X_train, X_cv], axis=0)\n",
        "y_after_train = pd.concat([y_train, y_cv], axis=0)"
      ],
      "execution_count": null,
      "outputs": []
    },
    {
      "cell_type": "code",
      "metadata": {
        "id": "BWX6RMgYnRT7"
      },
      "source": [
        "best_rf_model = RandomForestRegressor(max_depth = 30, n_estimators=100).fit(X_after_train, y_after_train)"
      ],
      "execution_count": null,
      "outputs": []
    },
    {
      "cell_type": "code",
      "metadata": {
        "id": "zZgM8XzUpGCm"
      },
      "source": [
        "y_pred_rf = best_rf_model.predict(X_test) # Predict the test data."
      ],
      "execution_count": null,
      "outputs": []
    },
    {
      "cell_type": "code",
      "metadata": {
        "colab": {
          "base_uri": "https://localhost:8080/"
        },
        "id": "djPE5_8rpOrP",
        "outputId": "dfd1e510-23cf-412e-a9c3-745c0076a02c"
      },
      "source": [
        "print('Weighted Mean Absolute Error (WMAE) for Random Forest Regression:', wmae_test(y_test, y_pred_rf)) # Get WMAE score."
      ],
      "execution_count": null,
      "outputs": [
        {
          "output_type": "stream",
          "text": [
            "Weighted Mean Absolute Error (WMAE) for Random Forest Regression: 1993.2618745944874\n"
          ],
          "name": "stdout"
        }
      ]
    },
    {
      "cell_type": "code",
      "metadata": {
        "id": "DXvgdVKUAgOl"
      },
      "source": [
        ""
      ],
      "execution_count": null,
      "outputs": []
    },
    {
      "cell_type": "code",
      "metadata": {
        "id": "jexkbBcwAgOm"
      },
      "source": [
        ""
      ],
      "execution_count": null,
      "outputs": []
    },
    {
      "cell_type": "code",
      "metadata": {
        "id": "i2PVopIfAgOm"
      },
      "source": [
        ""
      ],
      "execution_count": null,
      "outputs": []
    },
    {
      "cell_type": "markdown",
      "metadata": {
        "id": "C1PRj94QAgOm"
      },
      "source": [
        "### KNN"
      ]
    },
    {
      "cell_type": "code",
      "metadata": {
        "id": "e0NTW99KAgOm",
        "outputId": "584128c3-9055-4ff1-eb31-f720e6efda30"
      },
      "source": [
        "error_cv_knn = []\n",
        "error_train_knn = []\n",
        "n_neighbors = list(range(1,10))\n",
        "\n",
        "for k in n_neighbors: \n",
        "    knn = KNeighborsRegressor(n_neighbors = k, n_jobs = -1) \n",
        "    knn.fit(X_train, y_train) \n",
        "    y_pred_cv_knn = knn.predict(X_cv) \n",
        "    y_pred_train_knn = knn.predict(X_train)\n",
        "    cv_err = wmae_cv(y_cv, y_pred_cv_knn)\n",
        "    error_cv_knn.append(cv_err) \n",
        "    error_train_knn.append(wmae_train(y_train, y_pred_train_knn)) \n",
        "    print(cv_err)"
      ],
      "execution_count": null,
      "outputs": [
        {
          "output_type": "stream",
          "text": [
            "11693.627495956298\n",
            "10600.992225375023\n",
            "10346.252760468176\n",
            "10388.409354717958\n",
            "10468.085584187516\n",
            "10569.798391608823\n",
            "10644.810628928988\n",
            "10724.772967648092\n",
            "10809.690227997908\n"
          ],
          "name": "stdout"
        }
      ]
    },
    {
      "cell_type": "code",
      "metadata": {
        "id": "WsbcSfOnAgOn",
        "outputId": "24f0bf38-c69b-4842-f75a-c2649157e501"
      },
      "source": [
        "# plot knn result\n",
        "plt.xlabel('K neighbor')\n",
        "plt.ylabel('WMAE')\n",
        "plt.plot(n_neighbors, error_cv_knn)"
      ],
      "execution_count": null,
      "outputs": [
        {
          "output_type": "execute_result",
          "data": {
            "text/plain": [
              "[<matplotlib.lines.Line2D at 0x2578216cbe0>]"
            ]
          },
          "metadata": {
            "tags": []
          },
          "execution_count": 101
        },
        {
          "output_type": "display_data",
          "data": {
            "image/png": "[encoded data removed]",
            "text/plain": [
              "<Figure size 432x288 with 1 Axes>"
            ]
          },
          "metadata": {
            "tags": []
          }
        }
      ]
    },
    {
      "cell_type": "markdown",
      "metadata": {
        "id": "0OsZf-3WAgOn"
      },
      "source": [
        ""
      ]
    },
    {
      "cell_type": "code",
      "metadata": {
        "id": "nOGygHG1AgOn"
      },
      "source": [
        ""
      ],
      "execution_count": null,
      "outputs": []
    },
    {
      "cell_type": "code",
      "metadata": {
        "id": "Qkz81-AoAgOo"
      },
      "source": [
        ""
      ],
      "execution_count": null,
      "outputs": []
    }
  ]
}