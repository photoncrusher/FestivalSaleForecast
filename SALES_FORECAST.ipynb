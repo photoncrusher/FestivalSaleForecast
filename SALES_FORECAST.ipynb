{
  "nbformat": 4,
  "nbformat_minor": 0,
  "metadata": {
    "colab": {
      "name": "SALES_FORECAST.ipynb",
      "provenance": [],
      "collapsed_sections": [
        "3uWXE11rJcer",
        "DpUCDS4s9HfA",
        "GuUmN1FtENz3"
      ]
    },
    "kernelspec": {
      "name": "python3",
      "display_name": "Python 3"
    },
    "language_info": {
      "name": "python"
    }
  },
  "cells": [
    {
      "cell_type": "markdown",
      "metadata": {
        "id": "3uWXE11rJcer"
      },
      "source": [
        "# IMPORT"
      ]
    },
    {
      "cell_type": "code",
      "metadata": {
        "id": "O4GSlbYnlpdF"
      },
      "source": [
        "from google.colab import drive\n",
        "import os\n",
        "import numpy as np\n",
        "import pandas as pd"
      ],
      "execution_count": 2,
      "outputs": []
    },
    {
      "cell_type": "code",
      "metadata": {
        "colab": {
          "base_uri": "https://localhost:8080/"
        },
        "id": "nGJKCjgUvo7U",
        "outputId": "8705696a-6340-4886-8f84-1e7fd73d12cb"
      },
      "source": [
        "drive.mount('/content/drive')\n",
        "path = 'drive/MyDrive/FORECAST'\n",
        "os.listdir(path)"
      ],
      "execution_count": 3,
      "outputs": [
        {
          "output_type": "stream",
          "text": [
            "Mounted at /content/drive\n"
          ],
          "name": "stdout"
        },
        {
          "output_type": "execute_result",
          "data": {
            "text/plain": [
              "['test.csv', 'train.csv', 'features.csv', 'sampleSubmission.csv', 'stores.csv']"
            ]
          },
          "metadata": {
            "tags": []
          },
          "execution_count": 3
        }
      ]
    },
    {
      "cell_type": "code",
      "metadata": {
        "colab": {
          "base_uri": "https://localhost:8080/"
        },
        "id": "LYPiG4-Tv68M",
        "outputId": "7187e203-95d4-481c-acbc-53a052b57b7e"
      },
      "source": [
        "train_csv = pd.read_csv(path+'/train.csv')\n",
        "features_csv = pd.read_csv(path+'/features.csv')\n",
        "stores_csv = pd.read_csv(path+'/stores.csv')\n",
        "print(train_csv)\n",
        "print(features_csv)\n",
        "print(stores_csv)"
      ],
      "execution_count": 4,
      "outputs": [
        {
          "output_type": "stream",
          "text": [
            "        Store  Dept        Date  Weekly_Sales  IsHoliday\n",
            "0           1     1  2010-02-05      24924.50      False\n",
            "1           1     1  2010-02-12      46039.49       True\n",
            "2           1     1  2010-02-19      41595.55      False\n",
            "3           1     1  2010-02-26      19403.54      False\n",
            "4           1     1  2010-03-05      21827.90      False\n",
            "...       ...   ...         ...           ...        ...\n",
            "421565     45    98  2012-09-28        508.37      False\n",
            "421566     45    98  2012-10-05        628.10      False\n",
            "421567     45    98  2012-10-12       1061.02      False\n",
            "421568     45    98  2012-10-19        760.01      False\n",
            "421569     45    98  2012-10-26       1076.80      False\n",
            "\n",
            "[421570 rows x 5 columns]\n",
            "      Store        Date  Temperature  ...         CPI  Unemployment  IsHoliday\n",
            "0         1  2010-02-05        42.31  ...  211.096358         8.106      False\n",
            "1         1  2010-02-12        38.51  ...  211.242170         8.106       True\n",
            "2         1  2010-02-19        39.93  ...  211.289143         8.106      False\n",
            "3         1  2010-02-26        46.63  ...  211.319643         8.106      False\n",
            "4         1  2010-03-05        46.50  ...  211.350143         8.106      False\n",
            "...     ...         ...          ...  ...         ...           ...        ...\n",
            "8185     45  2013-06-28        76.05  ...         NaN           NaN      False\n",
            "8186     45  2013-07-05        77.50  ...         NaN           NaN      False\n",
            "8187     45  2013-07-12        79.37  ...         NaN           NaN      False\n",
            "8188     45  2013-07-19        82.84  ...         NaN           NaN      False\n",
            "8189     45  2013-07-26        76.06  ...         NaN           NaN      False\n",
            "\n",
            "[8190 rows x 12 columns]\n",
            "    Store Type    Size\n",
            "0       1    A  151315\n",
            "1       2    A  202307\n",
            "2       3    B   37392\n",
            "3       4    A  205863\n",
            "4       5    B   34875\n",
            "5       6    A  202505\n",
            "6       7    B   70713\n",
            "7       8    A  155078\n",
            "8       9    B  125833\n",
            "9      10    B  126512\n",
            "10     11    A  207499\n",
            "11     12    B  112238\n",
            "12     13    A  219622\n",
            "13     14    A  200898\n",
            "14     15    B  123737\n",
            "15     16    B   57197\n",
            "16     17    B   93188\n",
            "17     18    B  120653\n",
            "18     19    A  203819\n",
            "19     20    A  203742\n",
            "20     21    B  140167\n",
            "21     22    B  119557\n",
            "22     23    B  114533\n",
            "23     24    A  203819\n",
            "24     25    B  128107\n",
            "25     26    A  152513\n",
            "26     27    A  204184\n",
            "27     28    A  206302\n",
            "28     29    B   93638\n",
            "29     30    C   42988\n",
            "30     31    A  203750\n",
            "31     32    A  203007\n",
            "32     33    A   39690\n",
            "33     34    A  158114\n",
            "34     35    B  103681\n",
            "35     36    A   39910\n",
            "36     37    C   39910\n",
            "37     38    C   39690\n",
            "38     39    A  184109\n",
            "39     40    A  155083\n",
            "40     41    A  196321\n",
            "41     42    C   39690\n",
            "42     43    C   41062\n",
            "43     44    C   39910\n",
            "44     45    B  118221\n"
          ],
          "name": "stdout"
        }
      ]
    },
    {
      "cell_type": "code",
      "metadata": {
        "id": "lhbfZg3Q8ara"
      },
      "source": [
        "import matplotlib.pyplot as plt"
      ],
      "execution_count": 5,
      "outputs": []
    },
    {
      "cell_type": "markdown",
      "metadata": {
        "id": "DpUCDS4s9HfA"
      },
      "source": [
        "# HIỂU DỮ LIỆU"
      ]
    },
    {
      "cell_type": "markdown",
      "metadata": {
        "id": "Y4O8FNCmAeoH"
      },
      "source": [
        "Bảng train gồm 5 thuộc tính: Store, Dept, Date, WeeklySales, IsHoliday"
      ]
    },
    {
      "cell_type": "code",
      "metadata": {
        "colab": {
          "base_uri": "https://localhost:8080/"
        },
        "id": "3J_YwxaZ8gsh",
        "outputId": "50dcd922-f419-4424-e6a0-b842a4b4a115"
      },
      "source": [
        "print('Dữ liệu: \\n',train_csv['Store'],'\\n Các giá trị dữ liệu: \\n',set(train_csv['Store']), '\\n Tổng số giá trị: từ 1 -> 45:', len(set(train_csv['Store'])))"
      ],
      "execution_count": 25,
      "outputs": [
        {
          "output_type": "stream",
          "text": [
            "Dữ liệu: \n",
            " 0          1\n",
            "1          1\n",
            "2          1\n",
            "3          1\n",
            "4          1\n",
            "          ..\n",
            "421565    45\n",
            "421566    45\n",
            "421567    45\n",
            "421568    45\n",
            "421569    45\n",
            "Name: Store, Length: 421570, dtype: int64 \n",
            " Các giá trị dữ liệu: \n",
            " {1, 2, 3, 4, 5, 6, 7, 8, 9, 10, 11, 12, 13, 14, 15, 16, 17, 18, 19, 20, 21, 22, 23, 24, 25, 26, 27, 28, 29, 30, 31, 32, 33, 34, 35, 36, 37, 38, 39, 40, 41, 42, 43, 44, 45} \n",
            " Tổng số giá trị: từ 1 -> 45: 45\n"
          ],
          "name": "stdout"
        }
      ]
    },
    {
      "cell_type": "markdown",
      "metadata": {
        "id": "DjTIQmOx-IMo"
      },
      "source": [
        "Bảng Train có thuộc tính Store ( Cửa hàng ) gồm 45 Store được đánh số từ 1 đến 45 "
      ]
    },
    {
      "cell_type": "code",
      "metadata": {
        "colab": {
          "base_uri": "https://localhost:8080/"
        },
        "id": "2MNqCo3B-p54",
        "outputId": "19629690-a776-42fc-a29a-6f5880e51057"
      },
      "source": [
        "print('Dữ liệu: \\n',train_csv['Dept'],'\\n Các giá trị dữ liệu: \\n',set(train_csv['Dept']), '\\n Tổng số giá trị từ 1 -> 99: ', len(set(train_csv['Dept'])))"
      ],
      "execution_count": 26,
      "outputs": [
        {
          "output_type": "stream",
          "text": [
            "Dữ liệu: \n",
            " 0          1\n",
            "1          1\n",
            "2          1\n",
            "3          1\n",
            "4          1\n",
            "          ..\n",
            "421565    98\n",
            "421566    98\n",
            "421567    98\n",
            "421568    98\n",
            "421569    98\n",
            "Name: Dept, Length: 421570, dtype: int64 \n",
            " Các giá trị dữ liệu: \n",
            " {1, 2, 3, 4, 5, 6, 7, 8, 9, 10, 11, 12, 13, 14, 16, 17, 18, 19, 20, 21, 22, 23, 24, 25, 26, 27, 28, 29, 30, 31, 32, 33, 34, 35, 36, 37, 38, 39, 40, 41, 42, 43, 44, 45, 46, 47, 48, 49, 50, 51, 52, 54, 55, 56, 58, 59, 60, 65, 67, 71, 72, 74, 77, 78, 79, 80, 81, 82, 83, 85, 87, 90, 91, 92, 93, 94, 95, 96, 97, 98, 99} \n",
            " Tổng số giá trị từ 1 -> 99:  81\n"
          ],
          "name": "stdout"
        }
      ]
    },
    {
      "cell_type": "markdown",
      "metadata": {
        "id": "4oMr3x2C_DCB"
      },
      "source": [
        "Bảng train có thuộc tính Dept ( Department - số phòng ban ) gồm 81 giá trị trải từ 1 đến 99"
      ]
    },
    {
      "cell_type": "markdown",
      "metadata": {
        "id": "Nh9Rtypw_pnR"
      },
      "source": [
        "Ngoài ra có một số thuộc tính của bảng train: Date: ngày/ tháng ghi dữ liệu. Weekly sale: Doanh số hàng tuần. IsHoliday ( True/ false): tức là có ngày lễ trong khi kiểm tra doanh số không?"
      ]
    },
    {
      "cell_type": "markdown",
      "metadata": {
        "id": "MAOdqdarARB5"
      },
      "source": [
        "Với bảng Feature:"
      ]
    },
    {
      "cell_type": "code",
      "metadata": {
        "colab": {
          "base_uri": "https://localhost:8080/"
        },
        "id": "kUUJ6CSgAaio",
        "outputId": "2f5ec5ff-314e-4f1d-9329-9b081f11a7fa"
      },
      "source": [
        "print(\"Các thuộc tính:\")\n",
        "for row in features_csv:\n",
        "  print(row)\n",
        "print(\"Tổng thuộc tính: 11\")"
      ],
      "execution_count": 30,
      "outputs": [
        {
          "output_type": "stream",
          "text": [
            "Các thuộc tính:\n",
            "Store\n",
            "Date\n",
            "Temperature\n",
            "Fuel_Price\n",
            "MarkDown1\n",
            "MarkDown2\n",
            "MarkDown3\n",
            "MarkDown4\n",
            "MarkDown5\n",
            "CPI\n",
            "Unemployment\n",
            "IsHoliday\n",
            "Tổng thuộc tính: 11\n"
          ],
          "name": "stdout"
        }
      ]
    },
    {
      "cell_type": "markdown",
      "metadata": {
        "id": "0bKeFNYoBIi4"
      },
      "source": [
        "Ta nhận thấy Bảng Feature là tập hợp các thuộc tính nhằm giúp ta có các dữ kiện để dự đoán các doanh thu của các cửa hàng. Trong đó có một số thuộc tính quen thuộc như Store ( cửa hàng), Date(ngày tháng), Temperature(nhiệt độ thời tiết), Fuel_Price(giá xăng), IsHoliday(có phải ngày lễ không)"
      ]
    },
    {
      "cell_type": "markdown",
      "metadata": {
        "id": "ZIQE8C9-CoXo"
      },
      "source": [
        "Ngoài ra, còn có các thuộc tính: Markdown1-5 thể hiện các cuộc giảm giá của siêu thị, CPI là chỉ số giá tiêu dùng, Unemployment rate : tỉ lệ thất nghiệp."
      ]
    },
    {
      "cell_type": "markdown",
      "metadata": {
        "id": "Pa81U2SODa8G"
      },
      "source": [
        "Từ việc đọc hiểu dữ liệu trên, ta có thể đưa ra dự đoán ban đầu một cách chủ quan:<br>\n",
        "- Các feature quan trọng nhất ảnh hưởng nhiều đến tiêu dùng sẽ là: IsHoliday\n",
        "- Thuộc tính quan trọng ảnh hưởng tuyến tính đến lượng Sales là các thuộc tính còn lại trừ Temp\n",
        "- Các cửa hàng: Nếu nổi tiếng có vẻ sẽ bán nhiều hơn\n",
        "- Thuộc tính temp có vẻ sẽ có các ngưỡng, nếu quá thấp sẽ ít người đi mua hàng hơn, nếu quá cao cũng sẽ vậy chứ không tuyến tính\n",
        "<br>\n",
        "Để kiểm tra và tiến hành phân tích ý tưởng đó, ta sẽ phân tích dữ liệu"
      ]
    },
    {
      "cell_type": "markdown",
      "metadata": {
        "id": "GuUmN1FtENz3"
      },
      "source": [
        "# PHÂN TÍCH DỮ LIỆU"
      ]
    },
    {
      "cell_type": "code",
      "metadata": {
        "colab": {
          "base_uri": "https://localhost:8080/",
          "height": 282
        },
        "id": "JYhC_oOLFG3l",
        "outputId": "22f31729-a745-455e-f7dd-187a55015ce6"
      },
      "source": [
        "plt.plot(train_csv[\"Store\"],train_csv[\"Weekly_Sales\"],linewidth=1, markersize=12)"
      ],
      "execution_count": 39,
      "outputs": [
        {
          "output_type": "execute_result",
          "data": {
            "text/plain": [
              "[<matplotlib.lines.Line2D at 0x7fc9492b2490>]"
            ]
          },
          "metadata": {
            "tags": []
          },
          "execution_count": 39
        },
        {
          "output_type": "display_data",
          "data": {
            "image/png": "[encoded data removed]",
            "text/plain": [
              "<Figure size 432x288 with 1 Axes>"
            ]
          },
          "metadata": {
            "tags": [],
            "needs_background": "light"
          }
        }
      ]
    },
    {
      "cell_type": "markdown",
      "metadata": {
        "id": "i90BrvoyIa4F"
      },
      "source": [
        "Nhận thấy có một số cửa hàng có doanh số mức rất cao (2 cửa hàng), nhiều doanh số trung bình, và một số doanh số rất thấp"
      ]
    },
    {
      "cell_type": "code",
      "metadata": {
        "id": "5OewrKmkJUjs"
      },
      "source": [
        ""
      ],
      "execution_count": null,
      "outputs": []
    }
  ]
}